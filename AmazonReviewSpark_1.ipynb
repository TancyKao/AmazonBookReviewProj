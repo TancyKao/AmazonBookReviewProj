{
 "cells": [
  {
   "cell_type": "code",
   "execution_count": 1,
   "metadata": {
    "collapsed": true
   },
   "outputs": [],
   "source": [
    "from pyspark.sql import SparkSession\n",
    "\n",
    "spark = SparkSession \\\n",
    "    .builder \\\n",
    "    .appName(\"Python Spark SQL basic example\") \\\n",
    "    .config(\"spark.some.config.option\", \"some-value\") \\\n",
    "    .getOrCreate()"
   ]
  },
  {
   "cell_type": "code",
   "execution_count": 16,
   "metadata": {
    "collapsed": true
   },
   "outputs": [],
   "source": [
    "from pyspark import SparkContext\n",
    "from pyspark.mllib.classification import LogisticRegressionWithSGD\n",
    "from pyspark.mllib.regression import LabeledPoint\n",
    "from numpy import array"
   ]
  },
  {
   "cell_type": "code",
   "execution_count": 24,
   "metadata": {
    "collapsed": false
   },
   "outputs": [
    {
     "name": "stdout",
     "output_type": "stream",
     "text": [
      "+----------+-------+-------+--------------------+-----------+--------------------+--------------------+--------------------+--------------+\n",
      "|      asin|helpful|overall|          reviewText| reviewTime|          reviewerID|        reviewerName|             summary|unixReviewTime|\n",
      "+----------+-------+-------+--------------------+-----------+--------------------+--------------------+--------------------+--------------+\n",
      "|000100039X| [0, 0]|    5.0|Spiritually and m...|12 16, 2012|A10000012B7CGYKOM...|                Adam|          Wonderful!|    1355616000|\n",
      "|000100039X| [0, 2]|    5.0|This is one my mu...|12 11, 2003|      A2S166WSCFIFP5|adead_poet@hotmai...|        close to god|    1071100800|\n",
      "|000100039X| [0, 0]|    5.0|This book provide...|01 18, 2014|      A1BM81XB4QHOA3|Ahoro Blethends \"...|Must Read for Lif...|    1390003200|\n",
      "|000100039X| [0, 0]|    5.0|I first read THE ...|09 27, 2011|      A1MOSTXNIO5MPJ|           Alan Krug|Timeless for ever...|    1317081600|\n",
      "|000100039X| [7, 9]|    5.0|A timeless classi...| 10 7, 2002|      A2XQ5LZHTD4AFT|            Alaturka|       A Modern Rumi|    1033948800|\n",
      "|000100039X| [0, 0]|    5.0|Reading this made...|01 27, 2014|      A3V1MKC2BVWY48|         Alex Dawson|This book will br...|    1390780800|\n",
      "|000100039X| [0, 0]|    5.0|As you read, Gibr...|03 28, 2008|      A12387207U8U24|                Alex|          Graet Work|    1206662400|\n",
      "|000100039X| [0, 0]|    5.0|Deep, moving dram...| 11 3, 2013|      A29TRDMK51GKZR|        Alpine Plume|         Such Beauty|    1383436800|\n",
      "|000100039X| [0, 0]|    5.0|This is a timeles...|01 29, 2014|      A3FI0744PG1WYG|Always Reading \"tkm\"|         The Prophet|    1390953600|\n",
      "|000100039X| [0, 0]|    5.0|An amazing work. ...|09 22, 2013|      A2LBBQHYLEHM7P|Amazon Customer \"...|    A Modern Classic|    1379808000|\n",
      "|000100039X| [0, 0]|    5.0|I LOVE this book....|01 15, 2009|      A1340OFLZBW5NG|     Amazon Customer|Perhaps the great...|    1231977600|\n",
      "|000100039X| [0, 0]|    5.0|This book has bee...|11 20, 2013|      A2KU9IU07LOJS1|     Amazon Customer|Great classic tha...|    1384905600|\n",
      "|000100039X| [0, 0]|    5.0|This book has so ...|03 16, 2014|      A2WVHIRDMLM82E|     Amazon Customer|             Amazing|    1394928000|\n",
      "|000100039X| [0, 0]|    5.0|When I was in col...|02 28, 2001|      A2I35JB67U20C0|     Amazon Customer|Everyone should h...|     983318400|\n",
      "|000100039X| [1, 1]|    5.0|I discovered The ...|01 23, 2013|      A19N3FCQCLJYUA|     Amazon Customer|A book everyone &...|    1358899200|\n",
      "|000100039X| [1, 1]|    5.0|Can't say enough ...|06 27, 2012|      A3FFNE1DR5SI1W|          A. Morelli|phenomenal piece ...|    1340755200|\n",
      "|000100039X| [0, 0]|    5.0|I have the 1972 v...|07 16, 2012|      A1TT4CY55WLHAR|           anonymous|textured paper, o...|    1342396800|\n",
      "|000100039X| [3, 5]|    5.0|Anything I've rea...|11 16, 2005|      A2X4HE21JTAL98|         Antiquarian|            Flawless|    1132099200|\n",
      "|000100039X| [1, 1]|    5.0|Cool book, I real...|02 15, 2012|       ARDQ9KNB8K22N|               Anwar|\"The Prophet\" is ...|    1329264000|\n",
      "|000100039X| [3, 3]|    5.0|This book is ever...|10 13, 2003|       A27ZH1AQORJ1L|anybody else or \"...|          Enchanting|    1066003200|\n",
      "+----------+-------+-------+--------------------+-----------+--------------------+--------------------+--------------------+--------------+\n",
      "only showing top 20 rows\n",
      "\n"
     ]
    }
   ],
   "source": [
    "from pyspark.sql import SQLContext\n",
    "sqlContext = SQLContext(sc)\n",
    "\n",
    "df = sqlContext.read.json(\"reviews_Books_5.json\")\n",
    "\n",
    "# Displays the content of the DataFrame to stdout\n",
    "df.show()"
   ]
  },
  {
   "cell_type": "code",
   "execution_count": 28,
   "metadata": {
    "collapsed": false
   },
   "outputs": [],
   "source": [
    "sub_df = df[['helpful','reviewText']]"
   ]
  },
  {
   "cell_type": "code",
   "execution_count": null,
   "metadata": {
    "collapsed": true
   },
   "outputs": [],
   "source": []
  },
  {
   "cell_type": "code",
   "execution_count": null,
   "metadata": {
    "collapsed": true
   },
   "outputs": [],
   "source": []
  },
  {
   "cell_type": "code",
   "execution_count": null,
   "metadata": {
    "collapsed": true
   },
   "outputs": [],
   "source": []
  },
  {
   "cell_type": "code",
   "execution_count": null,
   "metadata": {
    "collapsed": true
   },
   "outputs": [],
   "source": []
  },
  {
   "cell_type": "code",
   "execution_count": null,
   "metadata": {
    "collapsed": true
   },
   "outputs": [],
   "source": []
  },
  {
   "cell_type": "code",
   "execution_count": null,
   "metadata": {
    "collapsed": true
   },
   "outputs": [],
   "source": []
  }
 ],
 "metadata": {
  "anaconda-cloud": {},
  "kernelspec": {
   "display_name": "Python [default]",
   "language": "python",
   "name": "python2"
  },
  "language_info": {
   "codemirror_mode": {
    "name": "ipython",
    "version": 2
   },
   "file_extension": ".py",
   "mimetype": "text/x-python",
   "name": "python",
   "nbconvert_exporter": "python",
   "pygments_lexer": "ipython2",
   "version": "2.7.12"
  }
 },
 "nbformat": 4,
 "nbformat_minor": 1
}
