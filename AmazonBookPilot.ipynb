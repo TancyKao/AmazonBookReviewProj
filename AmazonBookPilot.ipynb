{
 "cells": [
  {
   "cell_type": "code",
   "execution_count": null,
   "metadata": {
    "collapsed": true
   },
   "outputs": [],
   "source": []
  },
  {
   "cell_type": "code",
   "execution_count": null,
   "metadata": {
    "collapsed": true
   },
   "outputs": [],
   "source": []
  },
  {
   "cell_type": "code",
   "execution_count": 387,
   "metadata": {
    "collapsed": false
   },
   "outputs": [
    {
     "data": {
      "text/html": [
       "<style>body {\n",
       "    margin: 0;\n",
       "    font-family: Helvetica;\n",
       "}\n",
       "table.dataframe {\n",
       "    border-collapse: collapse;\n",
       "    border: none;\n",
       "}\n",
       "table.dataframe tr {\n",
       "    border: none;\n",
       "}\n",
       "table.dataframe td, table.dataframe th {\n",
       "    margin: 0;\n",
       "    border: 1px solid white;\n",
       "    padding-left: 0.25em;\n",
       "    padding-right: 0.25em;\n",
       "}\n",
       "table.dataframe th:not(:empty) {\n",
       "    background-color: #fec;\n",
       "    text-align: left;\n",
       "    font-weight: normal;\n",
       "}\n",
       "table.dataframe tr:nth-child(2) th:empty {\n",
       "    border-left: none;\n",
       "    border-right: 1px dashed #888;\n",
       "}\n",
       "table.dataframe td {\n",
       "    border: 2px solid #ccf;\n",
       "    background-color: #f4f4ff;\n",
       "}\n",
       "h2 {\n",
       "    color: white;\n",
       "    background-color: black;\n",
       "    padding: 0.5em;\n",
       "}\n",
       "</style>"
      ],
      "text/plain": [
       "<IPython.core.display.HTML object>"
      ]
     },
     "execution_count": 387,
     "metadata": {},
     "output_type": "execute_result"
    }
   ],
   "source": [
    "##########################################\n",
    "## SET FOR DISPLAY FORMAT\n",
    "##########################################\n",
    "\n",
    "from IPython.core.display import HTML\n",
    "css = open('style-table.css').read() + open('style-notebook.css').read()\n",
    "HTML('<style>{}</style>'.format(css))"
   ]
  },
  {
   "cell_type": "markdown",
   "metadata": {},
   "source": [
    "## Importing data\n",
    "\n",
    "### Setting configuration for bigquery\n",
    "### Import bigquery to pandas "
   ]
  },
  {
   "cell_type": "code",
   "execution_count": 3,
   "metadata": {
    "collapsed": false
   },
   "outputs": [],
   "source": [
    "##########################################\n",
    "## CONFIG FOR BIGQUERY\n",
    "##########################################\n",
    "\n",
    "from bigquery import get_client\n",
    "\n",
    "# BigQuery project id as listed in the Google Developers Console.\n",
    "project_id = 'springboard-project'\n",
    "\n",
    "# Service account email address as listed in the Google Developers Console.\n",
    "service_account = 'python-pandas@springboard-project.iam.gserviceaccount.com'\n",
    "\n",
    "# PKCS12 or PEM key provided by Google.\n",
    "key = '/Users/tancy/SpringBoardProject-b3a58f067389.p12'\n",
    "\n",
    "client = get_client(project_id, service_account=service_account,\n",
    "                    private_key_file=key, readonly=True)"
   ]
  },
  {
   "cell_type": "code",
   "execution_count": 4,
   "metadata": {
    "collapsed": false
   },
   "outputs": [
    {
     "name": "stdout",
     "output_type": "stream",
     "text": [
      "Requesting query... ok.\n",
      "Query running...\n",
      "Query done.\n",
      "Processed: 870.3 kb\n",
      "\n",
      "Retrieving results...\n",
      "  Got page: 1; 100.0% done. Elapsed 8.58 s.\n",
      "Got 1019 rows.\n",
      "\n",
      "Total time taken 8.68 s.\n",
      "Finished at 2016-11-07 12:37:08.\n"
     ]
    }
   ],
   "source": [
    "##########################################\n",
    "## BIGQUERY TO DATAFRAME\n",
    "##########################################\n",
    "\n",
    "import pandas as pd\n",
    "\n",
    "# to communicate with Google BigQuery\n",
    "from pandas.io import gbq\n",
    "\n",
    "amazon_book_sample_query = \"\"\"\n",
    "SELECT\n",
    "    reviewerID,\n",
    "    asin,\n",
    "    unixReviewTime,\n",
    "    overall,\n",
    "    reviewText,\n",
    "    summary,\n",
    "    helpful_vot,\n",
    "    tot_vot,\n",
    "\n",
    "FROM\n",
    "    (SELECT * FROM [springboard-project:AmazonReview.book2_small_sample])\n",
    "    \n",
    "\"\"\"\n",
    "\n",
    "try:\n",
    "    ABS_df = gbq.read_gbq(amazon_book_sample_query, project_id=project_id)\n",
    "except:\n",
    "    print 'Error reading the dataset'\n"
   ]
  },
  {
   "cell_type": "code",
   "execution_count": 5,
   "metadata": {
    "collapsed": false
   },
   "outputs": [
    {
     "data": {
      "text/html": [
       "<div>\n",
       "<table border=\"1\" class=\"dataframe\">\n",
       "  <thead>\n",
       "    <tr style=\"text-align: right;\">\n",
       "      <th></th>\n",
       "      <th>reviewerID</th>\n",
       "      <th>asin</th>\n",
       "      <th>unixReviewTime</th>\n",
       "      <th>overall</th>\n",
       "      <th>reviewText</th>\n",
       "      <th>summary</th>\n",
       "      <th>helpful_vot</th>\n",
       "      <th>tot_vot</th>\n",
       "    </tr>\n",
       "  </thead>\n",
       "  <tbody>\n",
       "    <tr>\n",
       "      <th>0</th>\n",
       "      <td>A34WV7011DN53P</td>\n",
       "      <td>1416599142</td>\n",
       "      <td>1260230400</td>\n",
       "      <td>4</td>\n",
       "      <td>I enjoyed this book alot.  It was really compe...</td>\n",
       "      <td>A Pretty Good Read!</td>\n",
       "      <td>0</td>\n",
       "      <td>0</td>\n",
       "    </tr>\n",
       "    <tr>\n",
       "      <th>1</th>\n",
       "      <td>A3PQ17R44Q5UJK</td>\n",
       "      <td>1925047415</td>\n",
       "      <td>1393804800</td>\n",
       "      <td>2</td>\n",
       "      <td>The twist ending made little to no sense.  See...</td>\n",
       "      <td>Meh</td>\n",
       "      <td>0</td>\n",
       "      <td>1</td>\n",
       "    </tr>\n",
       "  </tbody>\n",
       "</table>\n",
       "</div>"
      ],
      "text/plain": [
       "       reviewerID        asin  unixReviewTime  overall  \\\n",
       "0  A34WV7011DN53P  1416599142      1260230400        4   \n",
       "1  A3PQ17R44Q5UJK  1925047415      1393804800        2   \n",
       "\n",
       "                                          reviewText              summary  \\\n",
       "0  I enjoyed this book alot.  It was really compe...  A Pretty Good Read!   \n",
       "1  The twist ending made little to no sense.  See...                  Meh   \n",
       "\n",
       "   helpful_vot  tot_vot  \n",
       "0            0        0  \n",
       "1            0        1  "
      ]
     },
     "execution_count": 5,
     "metadata": {},
     "output_type": "execute_result"
    }
   ],
   "source": [
    "## check import data\n",
    "ABS_df.head(2)"
   ]
  },
  {
   "cell_type": "code",
   "execution_count": 5,
   "metadata": {
    "collapsed": false
   },
   "outputs": [
    {
     "name": "stdout",
     "output_type": "stream",
     "text": [
      "Number of unique reviewers:0.990186457311\n",
      "Number of unique products:0.988223748773\n",
      "Average rating score: 4.26594700687\n",
      "Average helpful pcd:0.725296828321\n"
     ]
    }
   ],
   "source": [
    "##########################################\n",
    "## DESCRIPTIVE STATISTICS\n",
    "##########################################\n",
    "\n",
    "### How many unique reviewers?\n",
    "reviewer_prop = float(len(ABS_df.reviewerID.unique()))/len(ABS_df.index)\n",
    "print \"Number of unique reviewers:\" + str(reviewer_prop)\n",
    "\n",
    "### How many unique products?\n",
    "product_prop = float(len(ABS_df.asin.unique()))/len(ABS_df.index)\n",
    "print \"Number of unique products:\" + str(product_prop)\n",
    "\n",
    "### average star score\n",
    "print(\"Average rating score: \" + str(ABS_df.overall.mean()))\n",
    "\n",
    "### average helpful \n",
    "ABS_df['help_prop'] = ABS_df.helpful_vot.div(ABS_df.tot_vot, axis=0)\n",
    "print(\"Average helpful pcd:\" + str(ABS_df.help_prop.mean()))\n",
    "\n",
    "\n",
    "### average text_length\n",
    "#print(\"Average text length:\" + str(amazon_book_sample_df.reviewText_len.mean()))"
   ]
  },
  {
   "cell_type": "markdown",
   "metadata": {},
   "source": [
    "### Basic performance\n",
    "#### * Distribution of star rating (1 to 5)\n",
    "#### * Distribution of reviews by helpfulness ratio\n"
   ]
  },
  {
   "cell_type": "code",
   "execution_count": 6,
   "metadata": {
    "collapsed": false
   },
   "outputs": [
    {
     "data": {
      "image/png": "[encoded data removed]",
      "text/plain": [
       "<matplotlib.figure.Figure at 0x116e9bfd0>"
      ]
     },
     "metadata": {},
     "output_type": "display_data"
    }
   ],
   "source": [
    "### proportion of star rating\n",
    "import matplotlib\n",
    "import matplotlib.pyplot as plt\n",
    "import seaborn as sns\n",
    "\n",
    "ABS_df.groupby('overall').size().plot(kind='bar')\n",
    "plt.title(\"Frequency of stars\")\n",
    "plt.xlabel(\"Frequency\")\n",
    "plt.ylabel(\"Number of reviews\")\n",
    "plt.show()"
   ]
  },
  {
   "cell_type": "code",
   "execution_count": 7,
   "metadata": {
    "collapsed": false
   },
   "outputs": [
    {
     "name": "stdout",
     "output_type": "stream",
     "text": [
      "max reviews:5\n"
     ]
    },
    {
     "data": {
      "image/png": "[encoded data removed]",
      "text/plain": [
       "<matplotlib.figure.Figure at 0x105860250>"
      ]
     },
     "metadata": {},
     "output_type": "display_data"
    }
   ],
   "source": [
    "### proportion of reviews \n",
    "import numpy as np\n",
    "\n",
    "reviewer_count = ABS_df.reviewerID.value_counts()\n",
    "print \"max reviews:\" + str(max(reviewer_count))\n",
    "\n",
    "\n",
    "plt.hist(reviewer_count, bins=np.arange(reviewer_count.min(), reviewer_count.max()+1)-0.5)\n",
    "plt.title(\"Frequency of reviews\")\n",
    "plt.xlabel(\"Frequency\")\n",
    "plt.ylabel(\"Number of reviewers\")\n",
    "plt.show()"
   ]
  },
  {
   "cell_type": "markdown",
   "metadata": {
    "collapsed": false
   },
   "source": [
    "### preliminary set of features to helpfulness (correlation)\n",
    "#### star review score\n",
    "#### length of texts by reviewer\n",
    "#### length of summary by reviewer\n",
    "#### total number of votes\n",
    "#### time different from first review\n",
    "#### number of reviews of a product"
   ]
  },
  {
   "cell_type": "code",
   "execution_count": null,
   "metadata": {
    "collapsed": false
   },
   "outputs": [],
   "source": []
  },
  {
   "cell_type": "code",
   "execution_count": 8,
   "metadata": {
    "collapsed": true
   },
   "outputs": [
    {
     "name": "stdout",
     "output_type": "stream",
     "text": [
      "      overall\n",
      "mean  1          0.547980\n",
      "      2          0.483580\n",
      "      3          0.670244\n",
      "      4          0.777572\n",
      "      5          0.764096\n",
      "std   1          0.365173\n",
      "      2          0.363569\n",
      "      3          0.380266\n",
      "      4          0.339816\n",
      "      5          0.340254\n",
      "dtype: float64\n",
      "overall\n",
      "1     32\n",
      "2     40\n",
      "3     57\n",
      "4    142\n",
      "5    285\n",
      "Name: help_prop, dtype: int64\n"
     ]
    }
   ],
   "source": [
    "### plot helpfulness of each star rating\n",
    "from scipy import stats as st\n",
    "\n",
    "star_help = ABS_df.groupby(['overall'], as_index=True)['help_prop'].agg([np.mean, np.std]).unstack()\n",
    "star_size = ABS_df.groupby(['overall'], as_index=True)['help_prop'].count() # drop NAN\n",
    "#star_size = star_size.rename(index=str, columns={\"help_prop\":\"size\"})\n",
    "print star_help\n",
    "print star_size\n",
    "#star_size.columns\n",
    "#star_help_tab =[star_help, star_size]\n",
    "#pd.concat(star_help_tab)\n",
    "\n",
    "#star_help['sem']=star_help.std/(star_size.size)\n",
    "\n",
    "# plt.title(\"Frequency of stars\")\n",
    "# plt.xlabel(\"Frequency\")\n",
    "# plt.ylabel(\"Number of reviewers\")\n",
    "# plt.show()"
   ]
  },
  {
   "cell_type": "code",
   "execution_count": null,
   "metadata": {
    "collapsed": false
   },
   "outputs": [],
   "source": [
    "### correlation between depth corr with helpfulness\n",
    "cov = np.cov(ABS_df.overall, ABS_df.help_prop)\n",
    "print cov"
   ]
  },
  {
   "cell_type": "code",
   "execution_count": 95,
   "metadata": {
    "collapsed": true
   },
   "outputs": [
    {
     "data": {
      "text/html": [
       "<div>\n",
       "<table border=\"1\" class=\"dataframe\">\n",
       "  <thead>\n",
       "    <tr style=\"text-align: right;\">\n",
       "      <th></th>\n",
       "      <th>reviewerID</th>\n",
       "      <th>asin</th>\n",
       "      <th>unixReviewTime</th>\n",
       "      <th>overall</th>\n",
       "      <th>reviewText</th>\n",
       "      <th>summary</th>\n",
       "      <th>helpful_vot</th>\n",
       "      <th>tot_vot</th>\n",
       "      <th>help_prop</th>\n",
       "      <th>text_len</th>\n",
       "      <th>labelSent</th>\n",
       "      <th>sentiment</th>\n",
       "    </tr>\n",
       "  </thead>\n",
       "  <tbody>\n",
       "    <tr>\n",
       "      <th>0</th>\n",
       "      <td>A34WV7011DN53P</td>\n",
       "      <td>1416599142</td>\n",
       "      <td>1260230400</td>\n",
       "      <td>4</td>\n",
       "      <td>I enjoyed this book alot.  It was really compe...</td>\n",
       "      <td>A Pretty Good Read!</td>\n",
       "      <td>0</td>\n",
       "      <td>0</td>\n",
       "      <td>NaN</td>\n",
       "      <td>1183</td>\n",
       "      <td>positive</td>\n",
       "      <td>positive</td>\n",
       "    </tr>\n",
       "    <tr>\n",
       "      <th>1</th>\n",
       "      <td>A3PQ17R44Q5UJK</td>\n",
       "      <td>1925047415</td>\n",
       "      <td>1393804800</td>\n",
       "      <td>2</td>\n",
       "      <td>The twist ending made little to no sense.  See...</td>\n",
       "      <td>Meh</td>\n",
       "      <td>0</td>\n",
       "      <td>1</td>\n",
       "      <td>0.0</td>\n",
       "      <td>107</td>\n",
       "      <td>negative</td>\n",
       "      <td>negative</td>\n",
       "    </tr>\n",
       "    <tr>\n",
       "      <th>2</th>\n",
       "      <td>A3TJ5MK5669HID</td>\n",
       "      <td>B00IMP3N86</td>\n",
       "      <td>1403827200</td>\n",
       "      <td>5</td>\n",
       "      <td>Can you say panty melting!?! I just Loved Fate...</td>\n",
       "      <td>Book Talk Reviews</td>\n",
       "      <td>1</td>\n",
       "      <td>1</td>\n",
       "      <td>1.0</td>\n",
       "      <td>762</td>\n",
       "      <td>positive</td>\n",
       "      <td>positive</td>\n",
       "    </tr>\n",
       "    <tr>\n",
       "      <th>3</th>\n",
       "      <td>A295H6R5MJ8AZK</td>\n",
       "      <td>031615427X</td>\n",
       "      <td>1354752000</td>\n",
       "      <td>2</td>\n",
       "      <td>The lake house and Blowned in the wind were gr...</td>\n",
       "      <td>SAVING THE WORLD</td>\n",
       "      <td>0</td>\n",
       "      <td>0</td>\n",
       "      <td>NaN</td>\n",
       "      <td>177</td>\n",
       "      <td>negative</td>\n",
       "      <td>negative</td>\n",
       "    </tr>\n",
       "    <tr>\n",
       "      <th>4</th>\n",
       "      <td>A2KQ8WKV4LHC6K</td>\n",
       "      <td>0739468383</td>\n",
       "      <td>1290124800</td>\n",
       "      <td>2</td>\n",
       "      <td>Only made it half way through the book, bored ...</td>\n",
       "      <td>Couldn't make it through</td>\n",
       "      <td>0</td>\n",
       "      <td>0</td>\n",
       "      <td>NaN</td>\n",
       "      <td>150</td>\n",
       "      <td>negative</td>\n",
       "      <td>negative</td>\n",
       "    </tr>\n",
       "  </tbody>\n",
       "</table>\n",
       "</div>"
      ],
      "text/plain": [
       "       reviewerID        asin  unixReviewTime  overall  \\\n",
       "0  A34WV7011DN53P  1416599142      1260230400        4   \n",
       "1  A3PQ17R44Q5UJK  1925047415      1393804800        2   \n",
       "2  A3TJ5MK5669HID  B00IMP3N86      1403827200        5   \n",
       "3  A295H6R5MJ8AZK  031615427X      1354752000        2   \n",
       "4  A2KQ8WKV4LHC6K  0739468383      1290124800        2   \n",
       "\n",
       "                                          reviewText  \\\n",
       "0  I enjoyed this book alot.  It was really compe...   \n",
       "1  The twist ending made little to no sense.  See...   \n",
       "2  Can you say panty melting!?! I just Loved Fate...   \n",
       "3  The lake house and Blowned in the wind were gr...   \n",
       "4  Only made it half way through the book, bored ...   \n",
       "\n",
       "                    summary  helpful_vot  tot_vot  help_prop  text_len  \\\n",
       "0       A Pretty Good Read!            0        0        NaN      1183   \n",
       "1                       Meh            0        1        0.0       107   \n",
       "2         Book Talk Reviews            1        1        1.0       762   \n",
       "3          SAVING THE WORLD            0        0        NaN       177   \n",
       "4  Couldn't make it through            0        0        NaN       150   \n",
       "\n",
       "  labelSent sentiment  \n",
       "0  positive  positive  \n",
       "1  negative  negative  \n",
       "2  positive  positive  \n",
       "3  negative  negative  \n",
       "4  negative  negative  "
      ]
     },
     "execution_count": 95,
     "metadata": {},
     "output_type": "execute_result"
    }
   ],
   "source": [
    "ABS_df['text_len'] = ABS_df.reviewText.apply(len)\n",
    "ABS_df.head()"
   ]
  },
  {
   "cell_type": "code",
   "execution_count": 96,
   "metadata": {
    "collapsed": true
   },
   "outputs": [
    {
     "data": {
      "text/html": [
       "<div>\n",
       "<table border=\"1\" class=\"dataframe\">\n",
       "  <thead>\n",
       "    <tr style=\"text-align: right;\">\n",
       "      <th></th>\n",
       "      <th>reviewerID</th>\n",
       "      <th>asin</th>\n",
       "      <th>unixReviewTime</th>\n",
       "      <th>overall</th>\n",
       "      <th>reviewText</th>\n",
       "      <th>summary</th>\n",
       "      <th>helpful_vot</th>\n",
       "      <th>tot_vot</th>\n",
       "      <th>help_prop</th>\n",
       "      <th>text_len</th>\n",
       "      <th>labelSent</th>\n",
       "      <th>sentiment</th>\n",
       "    </tr>\n",
       "  </thead>\n",
       "  <tbody>\n",
       "    <tr>\n",
       "      <th>0</th>\n",
       "      <td>A34WV7011DN53P</td>\n",
       "      <td>1416599142</td>\n",
       "      <td>1260230400</td>\n",
       "      <td>4</td>\n",
       "      <td>I enjoyed this book alot.  It was really compe...</td>\n",
       "      <td>A Pretty Good Read!</td>\n",
       "      <td>0</td>\n",
       "      <td>0</td>\n",
       "      <td>NaN</td>\n",
       "      <td>1183</td>\n",
       "      <td>positive</td>\n",
       "      <td>positive</td>\n",
       "    </tr>\n",
       "    <tr>\n",
       "      <th>1</th>\n",
       "      <td>A3PQ17R44Q5UJK</td>\n",
       "      <td>1925047415</td>\n",
       "      <td>1393804800</td>\n",
       "      <td>2</td>\n",
       "      <td>The twist ending made little to no sense.  See...</td>\n",
       "      <td>Meh</td>\n",
       "      <td>0</td>\n",
       "      <td>1</td>\n",
       "      <td>0.0</td>\n",
       "      <td>107</td>\n",
       "      <td>negative</td>\n",
       "      <td>negative</td>\n",
       "    </tr>\n",
       "    <tr>\n",
       "      <th>2</th>\n",
       "      <td>A3TJ5MK5669HID</td>\n",
       "      <td>B00IMP3N86</td>\n",
       "      <td>1403827200</td>\n",
       "      <td>5</td>\n",
       "      <td>Can you say panty melting!?! I just Loved Fate...</td>\n",
       "      <td>Book Talk Reviews</td>\n",
       "      <td>1</td>\n",
       "      <td>1</td>\n",
       "      <td>1.0</td>\n",
       "      <td>762</td>\n",
       "      <td>positive</td>\n",
       "      <td>positive</td>\n",
       "    </tr>\n",
       "    <tr>\n",
       "      <th>3</th>\n",
       "      <td>A295H6R5MJ8AZK</td>\n",
       "      <td>031615427X</td>\n",
       "      <td>1354752000</td>\n",
       "      <td>2</td>\n",
       "      <td>The lake house and Blowned in the wind were gr...</td>\n",
       "      <td>SAVING THE WORLD</td>\n",
       "      <td>0</td>\n",
       "      <td>0</td>\n",
       "      <td>NaN</td>\n",
       "      <td>177</td>\n",
       "      <td>negative</td>\n",
       "      <td>negative</td>\n",
       "    </tr>\n",
       "    <tr>\n",
       "      <th>4</th>\n",
       "      <td>A2KQ8WKV4LHC6K</td>\n",
       "      <td>0739468383</td>\n",
       "      <td>1290124800</td>\n",
       "      <td>2</td>\n",
       "      <td>Only made it half way through the book, bored ...</td>\n",
       "      <td>Couldn't make it through</td>\n",
       "      <td>0</td>\n",
       "      <td>0</td>\n",
       "      <td>NaN</td>\n",
       "      <td>150</td>\n",
       "      <td>negative</td>\n",
       "      <td>negative</td>\n",
       "    </tr>\n",
       "  </tbody>\n",
       "</table>\n",
       "</div>"
      ],
      "text/plain": [
       "       reviewerID        asin  unixReviewTime  overall  \\\n",
       "0  A34WV7011DN53P  1416599142      1260230400        4   \n",
       "1  A3PQ17R44Q5UJK  1925047415      1393804800        2   \n",
       "2  A3TJ5MK5669HID  B00IMP3N86      1403827200        5   \n",
       "3  A295H6R5MJ8AZK  031615427X      1354752000        2   \n",
       "4  A2KQ8WKV4LHC6K  0739468383      1290124800        2   \n",
       "\n",
       "                                          reviewText  \\\n",
       "0  I enjoyed this book alot.  It was really compe...   \n",
       "1  The twist ending made little to no sense.  See...   \n",
       "2  Can you say panty melting!?! I just Loved Fate...   \n",
       "3  The lake house and Blowned in the wind were gr...   \n",
       "4  Only made it half way through the book, bored ...   \n",
       "\n",
       "                    summary  helpful_vot  tot_vot  help_prop  text_len  \\\n",
       "0       A Pretty Good Read!            0        0        NaN      1183   \n",
       "1                       Meh            0        1        0.0       107   \n",
       "2         Book Talk Reviews            1        1        1.0       762   \n",
       "3          SAVING THE WORLD            0        0        NaN       177   \n",
       "4  Couldn't make it through            0        0        NaN       150   \n",
       "\n",
       "  labelSent sentiment  \n",
       "0  positive  positive  \n",
       "1  negative  negative  \n",
       "2  positive  positive  \n",
       "3  negative  negative  \n",
       "4  negative  negative  "
      ]
     },
     "execution_count": 96,
     "metadata": {},
     "output_type": "execute_result"
    }
   ],
   "source": [
    "## label sentiment of each review\n",
    "def label_Sentiment(row):\n",
    "    if row['overall'] <= 2:\n",
    "       return \"negative\"\n",
    "    if row['overall'] == 3:\n",
    "       return \"neural\"\n",
    "    if row['overall'] >= 4:\n",
    "        return \"positive\"\n",
    "\n",
    "ABS_df['sentiment'] = ABS_df.apply(label_Sentiment, axis=1)\n",
    "\n",
    "ABS_df.head()\n"
   ]
  },
  {
   "cell_type": "code",
   "execution_count": null,
   "metadata": {
    "collapsed": true
   },
   "outputs": [],
   "source": []
  },
  {
   "cell_type": "code",
   "execution_count": null,
   "metadata": {
    "collapsed": true
   },
   "outputs": [],
   "source": [
    "## Goal: Given a review, we are interested in predicting a user’s attitude. \n",
    "## A subset of the dataset will be used to train a “regression” model to predict user ratings. \n",
    "## Note that a higher rating is typically associated with a positive sentiment, \n",
    "## therefore, the same technique can be used to “classify” positive vs. negative sentiments.\n",
    "## in predicting a user’s attitude"
   ]
  },
  {
   "cell_type": "markdown",
   "metadata": {},
   "source": [
    "## Data Cleaning and Text Preprocessing\n",
    "#### * replaces all punctuation with spaces,\n",
    "#### * converts the input string to lower case, \n",
    "#### * splits the string to words\n",
    "#### * removes stop-words "
   ]
  },
  {
   "cell_type": "code",
   "execution_count": 97,
   "metadata": {
    "collapsed": false
   },
   "outputs": [],
   "source": [
    "import re, string, nltk\n",
    "from nltk.corpus import stopwords\n",
    "    \n",
    "def review2words(raw_review):\n",
    "    remove = string.punctuation\n",
    "    # keep surprise characters\n",
    "    remove = remove.replace(\"!\", \"\") # don't remove !\n",
    "    remove = remove.replace(\"?\", \"\") # don't remove ?\n",
    "    pattern = r\"[{}]\".format(remove) # create the pattern\n",
    "\n",
    "    # 1. replaces punctuation with spaces\n",
    "    review_words=raw_review.str.replace(pattern, \"\")\n",
    "\n",
    "    # 2. converts the input string to lower case\n",
    "    review_words_low = review_words.str.lower()\n",
    "\n",
    "    # 3. splits the string and ? ! to words \n",
    "    review_words_low2 = review_words_low.apply(nltk.word_tokenize)\n",
    "    \n",
    "    # 4. removes stop-words\n",
    "    stops = set(stopwords.words(\"english\")) # searching a set is faster than a list\n",
    "    meaningful_words = review_words_low2.apply(lambda x: [w for w in x if w not in stops])    \n",
    "    \n",
    "    ## if necessary to do following clean text ##\n",
    "    # 5. Stemming - strip off affixes\n",
    "    # porter = nltk.PorterStemmer()\n",
    "    # meaningful_words2 = meaningful_words.apply(lambda x: [porter.stem(t) for t in x])\n",
    "    \n",
    "    # 6. Lemmatizing - the word is from a dictionary \n",
    "    # wnl = nltk.WordNetLemmatizer()\n",
    "    # clean_words = meaningful_words2.apply(lambda x: [wnl.lemmatize(t) for t in x])\n",
    "    \n",
    "    return(meaningful_words)\n"
   ]
  },
  {
   "cell_type": "code",
   "execution_count": 98,
   "metadata": {
    "collapsed": true
   },
   "outputs": [
    {
     "data": {
      "text/html": [
       "<div>\n",
       "<table border=\"1\" class=\"dataframe\">\n",
       "  <thead>\n",
       "    <tr style=\"text-align: right;\">\n",
       "      <th></th>\n",
       "      <th>reviewerID</th>\n",
       "      <th>asin</th>\n",
       "      <th>unixReviewTime</th>\n",
       "      <th>overall</th>\n",
       "      <th>reviewText</th>\n",
       "      <th>summary</th>\n",
       "      <th>helpful_vot</th>\n",
       "      <th>tot_vot</th>\n",
       "      <th>help_prop</th>\n",
       "      <th>text_len</th>\n",
       "      <th>labelSent</th>\n",
       "      <th>sentiment</th>\n",
       "      <th>cleanText</th>\n",
       "    </tr>\n",
       "  </thead>\n",
       "  <tbody>\n",
       "    <tr>\n",
       "      <th>0</th>\n",
       "      <td>A34WV7011DN53P</td>\n",
       "      <td>1416599142</td>\n",
       "      <td>1260230400</td>\n",
       "      <td>4</td>\n",
       "      <td>I enjoyed this book alot.  It was really compe...</td>\n",
       "      <td>A Pretty Good Read!</td>\n",
       "      <td>0</td>\n",
       "      <td>0</td>\n",
       "      <td>NaN</td>\n",
       "      <td>1183</td>\n",
       "      <td>positive</td>\n",
       "      <td>positive</td>\n",
       "      <td>[enjoyed, book, alot, really, compelling, meli...</td>\n",
       "    </tr>\n",
       "    <tr>\n",
       "      <th>1</th>\n",
       "      <td>A3PQ17R44Q5UJK</td>\n",
       "      <td>1925047415</td>\n",
       "      <td>1393804800</td>\n",
       "      <td>2</td>\n",
       "      <td>The twist ending made little to no sense.  See...</td>\n",
       "      <td>Meh</td>\n",
       "      <td>0</td>\n",
       "      <td>1</td>\n",
       "      <td>0.0</td>\n",
       "      <td>107</td>\n",
       "      <td>negative</td>\n",
       "      <td>negative</td>\n",
       "      <td>[twist, ending, made, little, sense, seemed, q...</td>\n",
       "    </tr>\n",
       "    <tr>\n",
       "      <th>2</th>\n",
       "      <td>A3TJ5MK5669HID</td>\n",
       "      <td>B00IMP3N86</td>\n",
       "      <td>1403827200</td>\n",
       "      <td>5</td>\n",
       "      <td>Can you say panty melting!?! I just Loved Fate...</td>\n",
       "      <td>Book Talk Reviews</td>\n",
       "      <td>1</td>\n",
       "      <td>1</td>\n",
       "      <td>1.0</td>\n",
       "      <td>762</td>\n",
       "      <td>positive</td>\n",
       "      <td>positive</td>\n",
       "      <td>[say, panty, melting, !, ?, !, loved, fate, fa...</td>\n",
       "    </tr>\n",
       "  </tbody>\n",
       "</table>\n",
       "</div>"
      ],
      "text/plain": [
       "       reviewerID        asin  unixReviewTime  overall  \\\n",
       "0  A34WV7011DN53P  1416599142      1260230400        4   \n",
       "1  A3PQ17R44Q5UJK  1925047415      1393804800        2   \n",
       "2  A3TJ5MK5669HID  B00IMP3N86      1403827200        5   \n",
       "\n",
       "                                          reviewText              summary  \\\n",
       "0  I enjoyed this book alot.  It was really compe...  A Pretty Good Read!   \n",
       "1  The twist ending made little to no sense.  See...                  Meh   \n",
       "2  Can you say panty melting!?! I just Loved Fate...    Book Talk Reviews   \n",
       "\n",
       "   helpful_vot  tot_vot  help_prop  text_len labelSent sentiment  \\\n",
       "0            0        0        NaN      1183  positive  positive   \n",
       "1            0        1        0.0       107  negative  negative   \n",
       "2            1        1        1.0       762  positive  positive   \n",
       "\n",
       "                                           cleanText  \n",
       "0  [enjoyed, book, alot, really, compelling, meli...  \n",
       "1  [twist, ending, made, little, sense, seemed, q...  \n",
       "2  [say, panty, melting, !, ?, !, loved, fate, fa...  "
      ]
     },
     "execution_count": 98,
     "metadata": {},
     "output_type": "execute_result"
    }
   ],
   "source": [
    "clean_s = review2words(ABS_df.reviewText)\n",
    "clean_s.name=\"cleanText\"\n",
    "\n",
    "## merge back to dataframe\n",
    "clean_ABS_df = pd.concat([ABS_df,clean_s],axis=1)\n",
    "clean_ABS_df.head(3)"
   ]
  },
  {
   "cell_type": "markdown",
   "metadata": {},
   "source": [
    "### word cloud\n",
    "#### count frequency of words\n",
    "#### generate word cloud of all text\n",
    "#### split word cloud of postive rating and negative rating"
   ]
  },
  {
   "cell_type": "code",
   "execution_count": 372,
   "metadata": {
    "collapsed": false
   },
   "outputs": [],
   "source": [
    "def count_freq_words(cleanDat):\n",
    "    # extract clean text to a list\n",
    "    review_lists = cleanDat\n",
    "\n",
    "    # count frequency of each word\n",
    "    review_words = []\n",
    "    for wordList in review_lists:\n",
    "        review_words += wordList\n",
    "\n",
    "    # frequency dist of words\n",
    "    fdist = nltk.FreqDist(review_words)\n",
    "\n",
    "    # take top 10% common words \n",
    "    N = int(0.1*len(fdist.keys()))\n",
    "    mostcommon = fdist.most_common(N)\n",
    "\n",
    "    mclist = []\n",
    "    for i in range(len(mostcommon)):\n",
    "        mclist.append(mostcommon[i][0])\n",
    "\n",
    "    # mclist contains second-most common set of 100 words\n",
    "    # keep all occurrences of the words in mclist\n",
    "    top_review_words = [w for w in review_words if w in mclist]\n",
    "    \n",
    "    return fdist, top_review_words\n"
   ]
  },
  {
   "cell_type": "code",
   "execution_count": 100,
   "metadata": {
    "collapsed": false
   },
   "outputs": [],
   "source": [
    "try:\n",
    "    from collections import OrderedDict\n",
    "except ImportError:\n",
    "    OrderedDict = dict\n",
    "    \n",
    "# split words by star rating[1 to 5]\n",
    "rating_ABS_df = clean_ABS_df.groupby('overall')['cleanText'].apply(lambda x: x.sum()).reset_index()\n"
   ]
  },
  {
   "cell_type": "code",
   "execution_count": 17,
   "metadata": {
    "collapsed": true
   },
   "outputs": [
    {
     "data": {
      "image/png": "[encoded data removed]",
      "text/plain": [
       "<matplotlib.figure.Figure at 0x119a94750>"
      ]
     },
     "metadata": {},
     "output_type": "display_data"
    },
    {
     "data": {
      "image/png": "[encoded data removed]",
      "text/plain": [
       "<matplotlib.figure.Figure at 0x11c9480d0>"
      ]
     },
     "metadata": {},
     "output_type": "display_data"
    },
    {
     "data": {
      "image/png": "[encoded data removed]",
      "text/plain": [
       "<matplotlib.figure.Figure at 0x11c92bb10>"
      ]
     },
     "metadata": {},
     "output_type": "display_data"
    },
    {
     "data": {
      "image/png": "[encoded data removed]",
      "text/plain": [
       "<matplotlib.figure.Figure at 0x11c962a90>"
      ]
     },
     "metadata": {},
     "output_type": "display_data"
    },
    {
     "data": {
      "image/png": "[encoded data removed]",
      "text/plain": [
       "<matplotlib.figure.Figure at 0x113fd7890>"
      ]
     },
     "metadata": {},
     "output_type": "display_data"
    }
   ],
   "source": [
    "ratingText_ls=[]\n",
    "\n",
    "for i in range(1, len(rating_ABS_df)+1):\n",
    "    all_tops=count_freq_words(rating_ABS_df.cleanText[:i])[0]\n",
    "    sort_tops = OrderedDict(sorted(all_tops.items(), key=lambda t: t[1], reverse=True)[:10]) # dictionary sorted by value    \n",
    "    ratingText_ls.append({'overall': i, 'FreqDist': sort_tops})\n",
    "    temp = 510+i\n",
    "    plt.subplot(temp)\n",
    "    ax = plt.subplot(temp)\n",
    "    plt.title(str(i))\n",
    "    plt.bar(range(len(sort_tops)), sort_tops.values(), align=\"center\")\n",
    "    plt.xticks(range(len(sort_tops)), list(sort_tops.keys()))\n",
    "    plt.tight_layout()\n",
    "    plt.show()\n",
    "\n",
    "ratingText_df = pd.DataFrame(ratingText_ls)\n"
   ]
  },
  {
   "cell_type": "code",
   "execution_count": 334,
   "metadata": {
    "collapsed": true
   },
   "outputs": [
    {
     "data": {
      "image/png": "[encoded data removed]",
      "text/plain": [
       "<matplotlib.figure.Figure at 0x119adbb90>"
      ]
     },
     "metadata": {},
     "output_type": "display_data"
    },
    {
     "data": {
      "image/png": "[encoded data removed]",
      "text/plain": [
       "<matplotlib.figure.Figure at 0x11cb52bd0>"
      ]
     },
     "metadata": {},
     "output_type": "display_data"
    },
    {
     "data": {
      "image/png": "[encoded data removed]",
      "text/plain": [
       "<matplotlib.figure.Figure at 0x11c2fdc50>"
      ]
     },
     "metadata": {},
     "output_type": "display_data"
    }
   ],
   "source": [
    "### extract clean text to a list\n",
    "\n",
    "\n",
    "senti_ABS_df = clean_ABS_df.groupby('sentiment')['cleanText'].sum().reset_index()    \n",
    "senti_ABS_df.columns = ['sentiment','cleanText']\n",
    "\n",
    "## positive reviewers\n",
    "pos_ABS_df = senti_ABS_df[senti_ABS_df.sentiment=='positive']\n",
    "pos_whole_words = count_freq_words(pos_ABS_df.cleanText)\n",
    "pos_whole_words_dist = pos_whole_words[0]\n",
    "pos_top_words = pos_whole_words[1]\n",
    "\n",
    "## neural reviewers\n",
    "neur_ABS_df = senti_ABS_df[senti_ABS_df.sentiment=='neural']\n",
    "neur_whole_words = count_freq_words(neur_ABS_df.cleanText)\n",
    "neur_whole_words_dist = neur_whole_words[0]\n",
    "neur_top_words = neur_whole_words[1]\n",
    "\n",
    "## negative reviewers\n",
    "neg_ABS_df = senti_ABS_df[senti_ABS_df.sentiment=='negative']\n",
    "neg_whole_words = count_freq_words(neg_ABS_df.cleanText)\n",
    "neg_whole_words_dist = neg_whole_words[0]\n",
    "neg_top_words = neg_whole_words[1]\n",
    "\n",
    "topN = 30 # select top 30\n",
    "plt.subplot(311)\n",
    "plt.title(\"TopWords in postive Reviews\")\n",
    "pos_whole_words_dist.plot(topN, cumulative=True)\n",
    "\n",
    "plt.figure(1)\n",
    "plt.subplot(312)\n",
    "plt.title(\"TopWords in neural Reviews\")\n",
    "neur_whole_words_dist.plot(topN, cumulative=True)\n",
    "\n",
    "plt.subplot(313)\n",
    "plt.title(\"TopWords in negative Reviews\")\n",
    "neg_whole_words_dist.plot(topN, cumulative=True)\n",
    "plt.show()\n"
   ]
  },
  {
   "cell_type": "code",
   "execution_count": 108,
   "metadata": {
    "collapsed": false
   },
   "outputs": [],
   "source": [
    "## need wordcloud package by Andreas Mueller\n",
    "## need Python’s imaging library PIL\n",
    "\n",
    "from wordcloud import WordCloud\n",
    "\n",
    "def wordcloud_fig(import_top_words):\n",
    "    #Convert all the required text into a single string here \n",
    "    #and store them in word_string\n",
    "    top_review_str = ' '.join(import_top_words)\n",
    "\n",
    "    wordcloud = WordCloud(#font_path='/Users/tancy/Library/Fonts/sans-serif.ttf',\n",
    "                              background_color='black',\n",
    "                              width=800,\n",
    "                              height=600\n",
    "                             ).generate(top_review_str)\n",
    "\n",
    "    return(wordcloud)"
   ]
  },
  {
   "cell_type": "code",
   "execution_count": 116,
   "metadata": {
    "collapsed": true
   },
   "outputs": [
    {
     "data": {
      "image/png": "[encoded data removed]",
      "text/plain": [
       "<matplotlib.figure.Figure at 0x11dcd6d10>"
      ]
     },
     "metadata": {},
     "output_type": "display_data"
    }
   ],
   "source": [
    "## word cloud figures\n",
    "\n",
    "plt.figure(1)\n",
    "plt.subplot(221)\n",
    "plt.imshow(wordcloud_fig(pos_top_words))\n",
    "plt.title(\"TopWords in postive Reviews\")\n",
    "plt.axis('off')\n",
    "\n",
    "plt.subplot(222)\n",
    "plt.imshow(wordcloud_fig(neur_top_words))\n",
    "plt.title(\"TopWords in neural Reviews\")\n",
    "plt.axis('off')\n",
    "\n",
    "plt.subplot(223)\n",
    "plt.imshow(wordcloud_fig(neg_top_words))\n",
    "plt.title(\"TopWords in negative Reviews\")\n",
    "plt.axis('off')\n",
    "plt.show()\n"
   ]
  },
  {
   "cell_type": "code",
   "execution_count": null,
   "metadata": {
    "collapsed": true
   },
   "outputs": [],
   "source": [
    "### Sentiment analysis\n",
    "### Naive Bayes classification \n",
    "#### 1) label the sentiment based on reviewers' star rating\n",
    "#### 2) feature extract\n",
    "#### 3) NaiveBayesClassifier\n",
    "#### 4) find their informative info\n",
    "#### 5) "
   ]
  },
  {
   "cell_type": "code",
   "execution_count": 373,
   "metadata": {
    "collapsed": false,
    "scrolled": true
   },
   "outputs": [],
   "source": [
    "### features of positive, neural, negative\n",
    "def process_features(senti_input_df):\n",
    "    reviewList = []\n",
    "    for row in range(len(senti_input_df)):\n",
    "        sentiment = senti_input_df.sentiment[row]\n",
    "        text = senti_input_df.cleanText[row]\n",
    "        reviewList.append((text, sentiment))\n",
    "\n",
    "    # Get reveiew features\n",
    "    word_features = count_freq_words(senti_input_df.cleanText)[1]\n",
    "    word_features = list(set(word_features))\n",
    "\n",
    "    return reviewList, word_features\n",
    "\n",
    "## select the input data\n",
    "processDat = process_features(a) #senti_ABS_df"
   ]
  },
  {
   "cell_type": "code",
   "execution_count": 366,
   "metadata": {
    "collapsed": false
   },
   "outputs": [
    {
     "data": {
      "text/html": [
       "<div>\n",
       "<table border=\"1\" class=\"dataframe\">\n",
       "  <thead>\n",
       "    <tr style=\"text-align: right;\">\n",
       "      <th></th>\n",
       "      <th>sentiment</th>\n",
       "      <th>cleanText</th>\n",
       "    </tr>\n",
       "  </thead>\n",
       "  <tbody>\n",
       "    <tr>\n",
       "      <th>0</th>\n",
       "      <td>negative</td>\n",
       "      <td>[twist, ending, made, little, sense, seemed, q...</td>\n",
       "    </tr>\n",
       "    <tr>\n",
       "      <th>1</th>\n",
       "      <td>positive</td>\n",
       "      <td>[enjoyed, book, alot, really, compelling, meli...</td>\n",
       "    </tr>\n",
       "  </tbody>\n",
       "</table>\n",
       "</div>"
      ],
      "text/plain": [
       "  sentiment                                          cleanText\n",
       "0  negative  [twist, ending, made, little, sense, seemed, q...\n",
       "1  positive  [enjoyed, book, alot, really, compelling, meli..."
      ]
     },
     "execution_count": 366,
     "metadata": {},
     "output_type": "execute_result"
    }
   ],
   "source": [
    "senti_ABS_df\n",
    "a = senti_ABS_df.drop(senti_ABS_df.index[[1]])\n",
    "a = a.reset_index(drop=True)\n",
    "a#df.reset_index(drop=True)"
   ]
  },
  {
   "cell_type": "code",
   "execution_count": 374,
   "metadata": {
    "collapsed": true
   },
   "outputs": [],
   "source": [
    "# extract_features\n",
    "def extract_features(reviews):\n",
    "    review_words = set(reviews)\n",
    "    features = {}\n",
    "    for word in processDat[1]:\n",
    "        features['contains(%s)' % word] = (word in review_words)\n",
    "    return features\n",
    "\n",
    "# Extract feature for all reviewers\n",
    "training_set = nltk.classify.util.apply_features(extract_features, processDat[0])"
   ]
  },
  {
   "cell_type": "code",
   "execution_count": 376,
   "metadata": {
    "collapsed": false
   },
   "outputs": [
    {
     "data": {
      "text/plain": [
       "{u'contains(waste)': False,\n",
       " u'contains(lot)': False,\n",
       " u'contains(black)': False,\n",
       " u'contains(understand)': False,\n",
       " u'contains(cost)': False,\n",
       " u'contains(patterson)': False,\n",
       " u'contains(drug)': False,\n",
       " u'contains(case)': False,\n",
       " u'contains(created)': False,\n",
       " u'contains(needed)': False,\n",
       " u'contains(explains)': False,\n",
       " u'contains(c)': False,\n",
       " u'contains(catches)': False,\n",
       " u'contains(longer)': False,\n",
       " u'contains(dont)': False,\n",
       " u'contains(ready)': False,\n",
       " u'contains(certainly)': False,\n",
       " u'contains(fans)': False,\n",
       " u'contains(introduction)': False,\n",
       " u'contains(seen)': False,\n",
       " u'contains(fan)': False,\n",
       " u'contains(robin)': False,\n",
       " u'contains(moments)': False,\n",
       " u'contains(know)': False,\n",
       " u'contains(deal)': False,\n",
       " u'contains(law)': False,\n",
       " u'contains(started)': False,\n",
       " u'contains(reader)': False,\n",
       " u'contains(brutal)': False,\n",
       " u'contains(tension)': False,\n",
       " u'contains(saying)': False,\n",
       " u'contains(justice)': False,\n",
       " u'contains(focus)': False,\n",
       " u'contains(knew)': False,\n",
       " u'contains(stories)': False,\n",
       " u'contains(fiction)': False,\n",
       " u'contains(drawn)': False,\n",
       " u'contains(policy)': False,\n",
       " u'contains(couldnt)': False,\n",
       " u'contains(variety)': False,\n",
       " u'contains(data)': False,\n",
       " u'contains(attention)': False,\n",
       " u'contains(younger)': False,\n",
       " u'contains(son)': False,\n",
       " u'contains(crazy)': False,\n",
       " u'contains(americans)': False,\n",
       " u'contains(depth)': False,\n",
       " u'contains(respect)': False,\n",
       " u'contains(boring)': False,\n",
       " u'contains(fear)': False,\n",
       " u'contains(watched)': False,\n",
       " u'contains(knows)': False,\n",
       " u'contains(scene)': False,\n",
       " u'contains(three)': False,\n",
       " u'contains(shock)': False,\n",
       " u'contains(reviews)': False,\n",
       " u'contains(amazon)': False,\n",
       " u'contains(talk)': False,\n",
       " u'contains(number)': False,\n",
       " u'contains(followed)': False,\n",
       " u'contains(events)': False,\n",
       " u'contains(disappointing)': True,\n",
       " u'contains(lessons)': False,\n",
       " u'contains(lee)': False,\n",
       " u'contains(etc)': False,\n",
       " u'contains(heavy)': False,\n",
       " u'contains(trip)': False,\n",
       " u'contains(begin)': False,\n",
       " u'contains(covered)': False,\n",
       " u'contains(picked)': False,\n",
       " u'contains(complaints)': False,\n",
       " u'contains(shows)': False,\n",
       " u'contains(despite)': False,\n",
       " u'contains(pages)': False,\n",
       " u'contains(go)': False,\n",
       " u'contains(anna)': False,\n",
       " u'contains(fantasy)': False,\n",
       " u'contains(amount)': False,\n",
       " u'contains(days)': False,\n",
       " u'contains(strange)': False,\n",
       " u'contains(nature)': False,\n",
       " u'contains(overcome)': False,\n",
       " u'contains(sees)': False,\n",
       " u'contains(fictional)': False,\n",
       " u'contains(cat)': False,\n",
       " u'contains(bad)': False,\n",
       " u'contains(wine)': False,\n",
       " u'contains(hear)': False,\n",
       " u'contains(audience)': False,\n",
       " u'contains(literally)': False,\n",
       " u'contains(strong)': False,\n",
       " u'contains(considered)': False,\n",
       " u'contains(adults)': False,\n",
       " u'contains(authors)': False,\n",
       " u'contains(interest)': False,\n",
       " u'contains(answer)': False,\n",
       " u'contains(survival)': False,\n",
       " u'contains(met)': False,\n",
       " u'contains(hopes)': False,\n",
       " u'contains(evil)': False,\n",
       " u'contains(ask)': False,\n",
       " u'contains(reality)': False,\n",
       " u'contains(called)': False,\n",
       " u'contains(history)': False,\n",
       " u'contains(discovered)': False,\n",
       " u'contains(described)': False,\n",
       " u'contains(holds)': False,\n",
       " u'contains(physical)': False,\n",
       " u'contains(helping)': False,\n",
       " u'contains(kids)': False,\n",
       " u'contains(mentioned)': False,\n",
       " u'contains(financial)': False,\n",
       " u'contains(filled)': False,\n",
       " u'contains(unfortunately)': False,\n",
       " u'contains(prose)': False,\n",
       " u'contains(drive)': False,\n",
       " u'contains(bones)': False,\n",
       " u'contains(middle)': False,\n",
       " u'contains(nicely)': False,\n",
       " u'contains(fund)': False,\n",
       " u'contains(jesus)': False,\n",
       " u'contains(guess)': False,\n",
       " u'contains(struggles)': False,\n",
       " u'contains(eclipse)': False,\n",
       " u'contains(wonder)': False,\n",
       " u'contains(michael)': False,\n",
       " u'contains(fun)': False,\n",
       " u'contains(simple)': False,\n",
       " u'contains(trials)': False,\n",
       " u'contains(think)': False,\n",
       " u'contains(used)': False,\n",
       " u'contains(eyes)': False,\n",
       " u'contains(connected)': False,\n",
       " u'contains(born)': False,\n",
       " u'contains(rebecca)': False,\n",
       " u'contains(thats)': False,\n",
       " u'contains(court)': False,\n",
       " u'contains(follow)': False,\n",
       " u'contains(state)': False,\n",
       " u'contains(end)': False,\n",
       " u'contains(actions)': False,\n",
       " u'contains(heard)': False,\n",
       " u'contains(ideas)': False,\n",
       " u'contains(opinion)': False,\n",
       " u'contains(loves)': False,\n",
       " u'contains(childrens)': False,\n",
       " u'contains(best)': False,\n",
       " u'contains(relevant)': False,\n",
       " u'contains(readers)': False,\n",
       " u'contains(predictable)': False,\n",
       " u'contains(quality)': False,\n",
       " u'contains(action)': False,\n",
       " u'contains(companion)': False,\n",
       " u'contains(another)': False,\n",
       " u'contains(spiritual)': False,\n",
       " u'contains(healing)': False,\n",
       " u'contains(passion)': False,\n",
       " u'contains(professional)': False,\n",
       " u'contains(ya)': False,\n",
       " u'contains(theme)': False,\n",
       " u'contains(stop)': False,\n",
       " u'contains(include)': False,\n",
       " u'contains(rather)': False,\n",
       " u'contains(carry)': False,\n",
       " u'contains(ways)': False,\n",
       " u'contains(element)': False,\n",
       " u'contains(alive)': False,\n",
       " u'contains(pulled)': False,\n",
       " u'contains(laugh)': False,\n",
       " u'contains(program)': False,\n",
       " u'contains(turns)': False,\n",
       " u'contains(master)': False,\n",
       " u'contains(word)': False,\n",
       " u'contains(includes)': False,\n",
       " u'contains(path)': False,\n",
       " u'contains(recipe)': False,\n",
       " u'contains(sure)': False,\n",
       " u'contains(whatever)': False,\n",
       " u'contains(times)': False,\n",
       " u'contains(incredible)': False,\n",
       " u'contains(inside)': False,\n",
       " u'contains(captivated)': False,\n",
       " u'contains(paranormal)': False,\n",
       " u'contains(plot)': False,\n",
       " u'contains(hearts)': False,\n",
       " u'contains(speaking)': False,\n",
       " u'contains(easily)': False,\n",
       " u'contains(already)': False,\n",
       " u'contains(setting)': False,\n",
       " u'contains(really)': False,\n",
       " u'contains(tried)': False,\n",
       " u'contains(hours)': False,\n",
       " u'contains(real)': False,\n",
       " u'contains(create)': False,\n",
       " u'contains(religion)': False,\n",
       " u'contains(slowly)': False,\n",
       " u'contains(offers)': False,\n",
       " u'contains(age)': False,\n",
       " u'contains(want)': False,\n",
       " u'contains(huge)': False,\n",
       " u'contains(close)': False,\n",
       " u'contains(james)': False,\n",
       " u'contains(nation)': False,\n",
       " u'contains(6)': False,\n",
       " u'contains(topic)': False,\n",
       " u'contains(liked)': False,\n",
       " u'contains(wasnt)': False,\n",
       " u'contains(shes)': False,\n",
       " u'contains(violence)': False,\n",
       " u'contains(bought)': False,\n",
       " u'contains(often)': False,\n",
       " u'contains(lead)': False,\n",
       " u'contains(place)': False,\n",
       " u'contains(character)': False,\n",
       " u'contains(made)': False,\n",
       " u'contains(theories)': False,\n",
       " u'contains(kind)': False,\n",
       " u'contains(worst)': False,\n",
       " u'contains(killing)': False,\n",
       " u'contains(de)': False,\n",
       " u'contains(ride)': False,\n",
       " u'contains(process)': False,\n",
       " u'contains(suddenly)': False,\n",
       " u'contains(search)': False,\n",
       " u'contains(america)': False,\n",
       " u'contains(brother)': False,\n",
       " u'contains(goes)': False,\n",
       " u'contains(becoming)': False,\n",
       " u'contains(4)': False,\n",
       " u'contains(exceptional)': False,\n",
       " u'contains(business)': False,\n",
       " u'contains(describes)': False,\n",
       " u'contains(pressure)': False,\n",
       " u'contains(material)': False,\n",
       " u'contains(came)': False,\n",
       " u'contains(war)': False,\n",
       " u'contains(style)': False,\n",
       " u'contains(results)': False,\n",
       " u'contains(issue)': False,\n",
       " u'contains(vampire)': False,\n",
       " u'contains(may)': False,\n",
       " u'contains(leave)': False,\n",
       " u'contains(trilogy)': False,\n",
       " u'contains(church)': False,\n",
       " u'contains(loved)': False,\n",
       " u'contains(based)': False,\n",
       " u'contains(lover)': False,\n",
       " u'contains(appreciate)': False,\n",
       " u'contains(stage)': False,\n",
       " u'contains(wrong)': False,\n",
       " u'contains(useful)': False,\n",
       " u'contains(school)': False,\n",
       " u'contains(food)': False,\n",
       " u'contains(main)': False,\n",
       " u'contains(opportunity)': False,\n",
       " u'contains(boygirls)': False,\n",
       " u'contains(genre)': False,\n",
       " u'contains(means)': False,\n",
       " u'contains(serve)': False,\n",
       " u'contains(cut)': False,\n",
       " u'contains(powerful)': False,\n",
       " u'contains(pandas)': False,\n",
       " u'contains(trying)': False,\n",
       " u'contains(answers)': False,\n",
       " u'contains(compelling)': False,\n",
       " u'contains(appear)': False,\n",
       " u'contains(felt)': False,\n",
       " u'contains(brings)': False,\n",
       " u'contains(group)': False,\n",
       " u'contains(guide)': False,\n",
       " u'contains(brad)': False,\n",
       " u'contains(journey)': False,\n",
       " u'contains(level)': False,\n",
       " u'contains(finished)': False,\n",
       " u'contains(patients)': False,\n",
       " u'contains(feel)': False,\n",
       " u'contains(said)': False,\n",
       " u'contains(older)': False,\n",
       " u'contains(behavior)': False,\n",
       " u'contains(need)': False,\n",
       " u'contains(worked)': False,\n",
       " u'contains(move)': False,\n",
       " u'contains(provides)': False,\n",
       " u'contains(walk)': False,\n",
       " u'contains(frog)': False,\n",
       " u'contains(greek)': False,\n",
       " u'contains(laughed)': False,\n",
       " u'contains(maybe)': False,\n",
       " u'contains(dialogue)': False,\n",
       " u'contains(reasons)': False,\n",
       " u'contains(killed)': False,\n",
       " u'contains(rarely)': False,\n",
       " u'contains(included)': False,\n",
       " u'contains(makes)': False,\n",
       " u'contains(oh)': False,\n",
       " u'contains(south)': False,\n",
       " u'contains(attitude)': False,\n",
       " u'contains(peter)': False,\n",
       " u'contains(red)': False,\n",
       " u'contains(fears)': False,\n",
       " u'contains(salvation)': False,\n",
       " u'contains(couple)': False,\n",
       " u'contains(watching)': False,\n",
       " u'contains(mary)': False,\n",
       " u'contains(rich)': False,\n",
       " u'contains(emotions)': False,\n",
       " u'contains(clara)': False,\n",
       " u'contains(theology)': False,\n",
       " u'contains(study)': False,\n",
       " u'contains(ones)': False,\n",
       " u'contains(diet)': False,\n",
       " u'contains(wars)': False,\n",
       " u'contains(piece)': False,\n",
       " u'contains(music)': False,\n",
       " u'contains(pull)': False,\n",
       " u'contains(library)': False,\n",
       " u'contains(though)': False,\n",
       " u'contains(thinks)': False,\n",
       " u'contains(seem)': False,\n",
       " u'contains(steps)': False,\n",
       " u'contains(pick)': False,\n",
       " u'contains(youll)': False,\n",
       " u'contains(children)': False,\n",
       " u'contains(better)': False,\n",
       " u'contains(since)': False,\n",
       " u'contains(guys)': False,\n",
       " u'contains(peculiar)': False,\n",
       " u'contains(informative)': False,\n",
       " u'contains(intriguing)': False,\n",
       " u'contains(cause)': False,\n",
       " u'contains(cover)': False,\n",
       " u'contains(high)': False,\n",
       " u'contains(needs)': False,\n",
       " u'contains(city)': False,\n",
       " u'contains(different)': False,\n",
       " u'contains(provide)': False,\n",
       " u'contains(college)': False,\n",
       " u'contains(voice)': False,\n",
       " u'contains(military)': False,\n",
       " u'contains(edge)': False,\n",
       " u'contains(reading)': False,\n",
       " u'contains(accurate)': False,\n",
       " u'contains(draw)': False,\n",
       " u'contains(fire)': False,\n",
       " u'contains(child)': False,\n",
       " u'contains(husband)': False,\n",
       " u'contains(customer)': False,\n",
       " u'contains(difference)': False,\n",
       " u'contains(apart)': False,\n",
       " u'contains(grand)': False,\n",
       " u'contains(covers)': False,\n",
       " u'contains(kid)': False,\n",
       " u'contains(short)': False,\n",
       " u'contains(focuses)': False,\n",
       " u'contains(storm)': False,\n",
       " u'contains(personality)': False,\n",
       " u'contains(little)': False,\n",
       " u'contains(happening)': False,\n",
       " u'contains(message)': False,\n",
       " u'contains(tragic)': False,\n",
       " u'contains(introduced)': False,\n",
       " u'contains(president)': False,\n",
       " u'contains(try)': False,\n",
       " u'contains(detailed)': False,\n",
       " u'contains(area)': False,\n",
       " u'contains(reminded)': False,\n",
       " u'contains(author)': False,\n",
       " u'contains(questions)': False,\n",
       " u'contains(familiar)': False,\n",
       " u'contains(still)': False,\n",
       " u'contains(text)': False,\n",
       " u'contains(emma)': False,\n",
       " u'contains(tragedy)': False,\n",
       " u'contains(conclusion)': False,\n",
       " u'contains(treatment)': False,\n",
       " u'contains(life)': False,\n",
       " u'contains(home)': False,\n",
       " u'contains(highly)': False,\n",
       " u'contains(party)': False,\n",
       " u'contains(ray)': False,\n",
       " u'contains(old)': False,\n",
       " u'contains(necessary)': False,\n",
       " u'contains(wrote)': False,\n",
       " u'contains(health)': False,\n",
       " u'contains(total)': False,\n",
       " u'contains(unless)': False,\n",
       " u'contains(kyles)': False,\n",
       " u'contains(mothers)': False,\n",
       " u'contains(ends)': False,\n",
       " u'contains(yes)': False,\n",
       " u'contains(others)': False,\n",
       " u'contains(training)': False,\n",
       " u'contains(jack)': False,\n",
       " u'contains(beginning)': False,\n",
       " u'contains(oils)': False,\n",
       " u'contains(least)': False,\n",
       " u'contains(attempt)': False,\n",
       " u'contains(looking)': False,\n",
       " u'contains(saw)': False,\n",
       " u'contains(broken)': False,\n",
       " u'contains(immediately)': False,\n",
       " u'contains(chapters)': False,\n",
       " u'contains(imagination)': False,\n",
       " u'contains(language)': False,\n",
       " u'contains(write)': False,\n",
       " u'contains(gripping)': False,\n",
       " u'contains(talking)': False,\n",
       " u'contains(ann)': False,\n",
       " u'contains(detail)': False,\n",
       " u'contains(cole)': False,\n",
       " u'contains(beyond)': False,\n",
       " u'contains(open)': False,\n",
       " u'contains(second)': False,\n",
       " u'contains(mysteries)': False,\n",
       " u'contains(hydrogen)': False,\n",
       " u'contains(account)': False,\n",
       " u'contains(turned)': False,\n",
       " u'contains(la)': False,\n",
       " u'contains(use)': False,\n",
       " u'contains(control)': False,\n",
       " u'contains(joe)': False,\n",
       " u'contains(charming)': False,\n",
       " u'contains(wisdom)': False,\n",
       " u'contains(wanted)': False,\n",
       " u'contains(childhood)': False,\n",
       " u'contains(house)': False,\n",
       " u'contains(christian)': False,\n",
       " u'contains(began)': False,\n",
       " u'contains(taste)': False,\n",
       " u'contains(games)': False,\n",
       " u'contains(exchange)': False,\n",
       " u'contains(novels)': False,\n",
       " u'contains(lady)': False,\n",
       " u'contains(lovely)': False,\n",
       " u'contains(reads)': False,\n",
       " u'contains(hit)': False,\n",
       " u'contains(adventures)': False,\n",
       " u'contains(start)': False,\n",
       " u'contains(recent)': False,\n",
       " u'contains(successful)': False,\n",
       " u'contains(vampires)': False,\n",
       " u'contains(jacob)': False,\n",
       " u'contains(subject)': False,\n",
       " u'contains(experiences)': False,\n",
       " u'contains(indeed)': False,\n",
       " u'contains(traditional)': False,\n",
       " u'contains(like)': False,\n",
       " u'contains(romantic)': False,\n",
       " u'contains(stay)': False,\n",
       " u'contains(tim)': False,\n",
       " u'contains(freedom)': False,\n",
       " u'contains(bit)': False,\n",
       " u'contains(leads)': False,\n",
       " u'contains(god)': False,\n",
       " u'contains(powers)': False,\n",
       " u'contains(market)': False,\n",
       " u'contains(except)': False,\n",
       " u'contains(take)': False,\n",
       " u'contains(cool)': False,\n",
       " u'contains(note)': False,\n",
       " u'contains(insightful)': False,\n",
       " u'contains(bring)': False,\n",
       " u'contains(teens)': False,\n",
       " u'contains(river)': False,\n",
       " u'contains(thank)': False,\n",
       " u'contains(carries)': False,\n",
       " u'contains(visit)': False,\n",
       " u'contains(healthy)': False,\n",
       " u'contains(sex)': False,\n",
       " u'contains(plenty)': False,\n",
       " u'contains(usually)': False,\n",
       " u'contains(grown)': False,\n",
       " u'contains(keeps)': False,\n",
       " u'contains(isnt)': False,\n",
       " u'contains(complete)': False,\n",
       " u'contains(copy)': False,\n",
       " u'contains(initially)': False,\n",
       " u'contains(put)': False,\n",
       " u'contains(must)': False,\n",
       " u'contains(general)': False,\n",
       " u'contains(dark)': False,\n",
       " u'contains(minor)': False,\n",
       " u'contains(believe)': False,\n",
       " u'contains(wondering)': False,\n",
       " u'contains(whose)': False,\n",
       " u'contains(bar)': False,\n",
       " u'contains(book)': True,\n",
       " u'contains(alex)': False,\n",
       " u'contains(premise)': False,\n",
       " u'contains(later)': False,\n",
       " u'contains(missed)': False,\n",
       " u'contains(something)': False,\n",
       " u'contains(economy)': False,\n",
       " u'contains(essential)': False,\n",
       " u'contains(among)': False,\n",
       " u'contains(view)': False,\n",
       " u'contains(wants)': False,\n",
       " u'contains(emotional)': False,\n",
       " u'contains(points)': False,\n",
       " u'contains(cold)': False,\n",
       " u'contains(teacher)': False,\n",
       " u'contains(information)': False,\n",
       " u'contains(forced)': False,\n",
       " u'contains(become)': False,\n",
       " u'contains(especially)': False,\n",
       " u'contains(shares)': False,\n",
       " u'contains(heal)': False,\n",
       " u'contains(rose)': False,\n",
       " u'contains(front)': False,\n",
       " u'contains(along)': False,\n",
       " u'contains(guilt)': False,\n",
       " u'contains(medical)': False,\n",
       " u'contains(fall)': False,\n",
       " u'contains(latest)': False,\n",
       " u'contains(purchase)': False,\n",
       " u'contains(engaging)': False,\n",
       " u'contains(afraid)': False,\n",
       " u'contains(five)': False,\n",
       " u'contains(classic)': False,\n",
       " u'contains(girls)': False,\n",
       " u'contains(weight)': False,\n",
       " u'contains(human)': False,\n",
       " u'contains(former)': False,\n",
       " u'contains(civil)': False,\n",
       " u'contains(example)': False,\n",
       " u'contains(insight)': False,\n",
       " u'contains(eye)': False,\n",
       " u'contains(totally)': False,\n",
       " u'contains(stars)': False,\n",
       " u'contains(lost)': False,\n",
       " u'contains(arrives)': False,\n",
       " u'contains(15)': False,\n",
       " u'contains(big)': False,\n",
       " u'contains(system)': False,\n",
       " u'contains(prove)': False,\n",
       " u'contains(stuck)': False,\n",
       " u'contains(married)': False,\n",
       " u'contains(media)': False,\n",
       " u'contains(thing)': False,\n",
       " u'contains(spend)': False,\n",
       " u'contains(british)': False,\n",
       " u'contains(feeling)': False,\n",
       " u'contains(reread)': False,\n",
       " u'contains(daughter)': False,\n",
       " u'contains(team)': False,\n",
       " u'contains(final)': False,\n",
       " u'contains(recommended)': False,\n",
       " u'contains(task)': False,\n",
       " u'contains(step)': False,\n",
       " u'contains(offering)': False,\n",
       " u'contains(amanda)': False,\n",
       " u'contains(develop)': False,\n",
       " u'contains(helped)': False,\n",
       " u'contains(sorry)': False,\n",
       " u'contains(looks)': False,\n",
       " u'contains(ancient)': False,\n",
       " u'contains(fact)': False,\n",
       " u'contains(ten)': False,\n",
       " u'contains(survive)': False,\n",
       " u'contains(class)': False,\n",
       " u'contains(return)': False,\n",
       " u'contains(amazing)': False,\n",
       " u'contains(doubt)': False,\n",
       " u'contains(memoir)': False,\n",
       " u'contains(modern)': False,\n",
       " u'contains(storyline)': False,\n",
       " u'contains(reference)': False,\n",
       " u'contains(witty)': False,\n",
       " u'contains(us)': False,\n",
       " u'contains(chance)': False,\n",
       " u'contains(living)': False,\n",
       " u'contains(hooked)': False,\n",
       " u'contains(learn)': False,\n",
       " u'contains(characters)': False,\n",
       " u'contains(method)': False,\n",
       " u'contains(sent)': False,\n",
       " u'contains(follows)': False,\n",
       " u'contains(balance)': False,\n",
       " u'contains(choose)': False,\n",
       " u'contains(film)': False,\n",
       " u'contains(ending)': False,\n",
       " u'contains(probably)': False,\n",
       " u'contains(academic)': False,\n",
       " u'contains(complex)': False,\n",
       " u'contains(blind)': False,\n",
       " u'contains(learning)': False,\n",
       " u'contains(ok)': False,\n",
       " u'contains(course)': False,\n",
       " u'contains(hunting)': False,\n",
       " u'contains(kill)': False,\n",
       " u'contains(soul)': False,\n",
       " u'contains(available)': False,\n",
       " u'contains(wanting)': False,\n",
       " u'contains(friend)': False,\n",
       " u'contains(small)': False,\n",
       " u'contains(keep)': False,\n",
       " u'contains(mean)': False,\n",
       " u'contains(writers)': False,\n",
       " u'contains(far)': False,\n",
       " u'contains(passed)': False,\n",
       " u'contains(trouble)': False,\n",
       " u'contains(police)': False,\n",
       " u'contains(focused)': False,\n",
       " u'contains(got)': False,\n",
       " u'contains(sexual)': False,\n",
       " u'contains(list)': False,\n",
       " u'contains(earlier)': False,\n",
       " u'contains(recipes)': False,\n",
       " u'contains(political)': False,\n",
       " u'contains(nicholas)': False,\n",
       " u'contains(regret)': False,\n",
       " u'contains(stuff)': False,\n",
       " u'contains(gotten)': False,\n",
       " u'contains(12)': False,\n",
       " u'contains(revolution)': False,\n",
       " u'contains(puts)': False,\n",
       " u'contains(expected)': False,\n",
       " u'contains(wont)': False,\n",
       " u'contains(stand)': False,\n",
       " u'contains(face)': False,\n",
       " u'contains(quick)': False,\n",
       " u'contains(dead)': False,\n",
       " u'contains(address)': False,\n",
       " u'contains(beautiful)': False,\n",
       " u'contains(gifts)': False,\n",
       " u'contains(brain)': False,\n",
       " u'contains(tells)': False,\n",
       " u'contains(act)': False,\n",
       " u'contains(paced)': False,\n",
       " u'contains(death)': False,\n",
       " u'contains(lines)': False,\n",
       " u'contains(finally)': False,\n",
       " u'contains(charles)': False,\n",
       " u'contains(rating)': False,\n",
       " u'contains(remember)': False,\n",
       " u'contains(enjoyed)': False,\n",
       " u'contains(western)': False,\n",
       " u'contains(literature)': False,\n",
       " u'contains(root)': False,\n",
       " u'contains(around)': False,\n",
       " u'contains(club)': False,\n",
       " u'contains(slow)': False,\n",
       " u'contains(fast)': False,\n",
       " u'contains(following)': False,\n",
       " u'contains(right)': False,\n",
       " u'contains(north)': False,\n",
       " u'contains(purchased)': False,\n",
       " u'contains(learned)': False,\n",
       " u'contains(look)': False,\n",
       " u'contains(happened)': False,\n",
       " u'contains(description)': False,\n",
       " u'contains(white)': False,\n",
       " u'contains(mr)': False,\n",
       " u'contains(section)': False,\n",
       " u'contains(serious)': False,\n",
       " u'contains(historical)': False,\n",
       " u'contains(skills)': False,\n",
       " u'contains(kept)': False,\n",
       " u'contains(opinions)': False,\n",
       " u'contains(point)': False,\n",
       " u'contains(fighting)': False,\n",
       " u'contains(popular)': False,\n",
       " u'contains(position)': False,\n",
       " u'contains(nice)': False,\n",
       " u'contains(someone)': False,\n",
       " u'contains(st)': False,\n",
       " u'contains(society)': False,\n",
       " u'contains(everyone)': False,\n",
       " u'contains(havent)': False,\n",
       " u'contains(seemed)': False,\n",
       " u'contains(yet)': False,\n",
       " u'contains(land)': False,\n",
       " u'contains(ill)': False,\n",
       " u'contains(lives)': False,\n",
       " u'contains(showing)': False,\n",
       " u'contains(island)': False,\n",
       " u'contains(girl)': False,\n",
       " u'contains(free)': False,\n",
       " u'contains(reviewed)': False,\n",
       " u'contains(edition)': False,\n",
       " u'contains(find)': False,\n",
       " u'contains(thinking)': False,\n",
       " u'contains(light)': False,\n",
       " u'contains(relationship)': False,\n",
       " u'contains(publisher)': False,\n",
       " u'contains(mark)': False,\n",
       " u'contains(works)': False,\n",
       " u'contains(excited)': False,\n",
       " u'contains(major)': False,\n",
       " u'contains(doesnt)': False,\n",
       " u'contains(disney)': False,\n",
       " u'contains(drama)': False,\n",
       " u'contains(extreme)': False,\n",
       " u'contains(father)': False,\n",
       " u'contains(excellent)': False,\n",
       " u'contains(famous)': False,\n",
       " u'contains(alone)': False,\n",
       " u'contains(?)': False,\n",
       " u'contains(anything)': False,\n",
       " u'contains(emily)': False,\n",
       " u'contains(kyle)': False,\n",
       " u'contains(happens)': False,\n",
       " u'contains(almost)': False,\n",
       " u'contains(top)': False,\n",
       " u'contains(theres)': False,\n",
       " u'contains(relatively)': False,\n",
       " u'contains(building)': False,\n",
       " u'contains(criticism)': False,\n",
       " u'contains(5)': False,\n",
       " u'contains(photos)': False,\n",
       " u'contains(problem)': False,\n",
       " u'contains(consider)': False,\n",
       " u'contains(absolutely)': False,\n",
       " u'contains(fully)': False,\n",
       " u'contains(lesson)': False,\n",
       " u'contains(disease)': False,\n",
       " u'contains(mom)': False,\n",
       " u'contains(spent)': False,\n",
       " u'contains(dr)': False,\n",
       " u'contains(together)': False,\n",
       " u'contains(purpose)': False,\n",
       " u'contains(although)': False,\n",
       " u'contains(margaret)': False,\n",
       " u'contains(men)': False,\n",
       " u'contains(christmas)': False,\n",
       " u'contains(leader)': False,\n",
       " u'contains(enjoyable)': False,\n",
       " u'contains(seeing)': False,\n",
       " u'contains(elements)': False,\n",
       " u'contains(gets)': False,\n",
       " u'contains(break)': False,\n",
       " u'contains(explain)': False,\n",
       " u'contains(david)': False,\n",
       " u'contains(man)': False,\n",
       " u'contains(truth)': False,\n",
       " u'contains(via)': False,\n",
       " u'contains(year)': False,\n",
       " u'contains(finish)': False,\n",
       " u'contains(happen)': False,\n",
       " u'contains(texas)': False,\n",
       " u'contains(forms)': False,\n",
       " u'contains(half)': False,\n",
       " u'contains(forever)': False,\n",
       " u'contains(sort)': False,\n",
       " u'contains(wait)': False,\n",
       " u'contains(developed)': False,\n",
       " u'contains(offer)': False,\n",
       " u'contains(title)': False,\n",
       " u'contains(secrets)': False,\n",
       " u'contains(ultimately)': False,\n",
       " u'contains(side)': False,\n",
       " u'contains(says)': False,\n",
       " u'contains(beauty)': False,\n",
       " u'contains(hes)': False,\n",
       " u'contains(boys)': False,\n",
       " u'contains(ms)': False,\n",
       " u'contains(game)': False,\n",
       " u'contains(failed)': False,\n",
       " u'contains(facts)': False,\n",
       " u'contains(cook)': False,\n",
       " u'contains(able)': False,\n",
       " u'contains(quickly)': False,\n",
       " u'contains(friends)': False,\n",
       " u'contains(come)': False,\n",
       " u'contains(part)': False,\n",
       " u'contains(states)': False,\n",
       " u'contains(desperate)': False,\n",
       " u'contains(york)': False,\n",
       " u'contains(instead)': False,\n",
       " u'contains(feelings)': False,\n",
       " u'contains(beautifully)': False,\n",
       " u'contains(madison)': False,\n",
       " u'contains(humans)': False,\n",
       " u'contains(pace)': False,\n",
       " u'contains(fathers)': False,\n",
       " u'contains(soon)': False,\n",
       " u'contains(coming)': False,\n",
       " u'contains(effects)': False,\n",
       " u'contains(harry)': False,\n",
       " u'contains(topics)': False,\n",
       " u'contains(elizabeth)': False,\n",
       " u'contains(male)': False,\n",
       " u'contains(lived)': False,\n",
       " u'contains(less)': False,\n",
       " u'contains(fine)': False,\n",
       " u'contains(definitely)': False,\n",
       " u'contains(moment)': False,\n",
       " u'contains(ago)': False,\n",
       " u'contains(person)': False,\n",
       " u'contains(similar)': False,\n",
       " u'contains(using)': False,\n",
       " u'contains(decided)': False,\n",
       " u'contains(late)': False,\n",
       " u'contains(first)': False,\n",
       " u'contains(impossible)': False,\n",
       " u'contains(tell)': False,\n",
       " u'contains(christ)': False,\n",
       " u'contains(readable)': False,\n",
       " u'contains(minute)': False,\n",
       " u'contains(room)': False,\n",
       " u'contains(balanced)': False,\n",
       " u'contains(fantastic)': False,\n",
       " u'contains(government)': False,\n",
       " u'contains(art)': False,\n",
       " u'contains(current)': False,\n",
       " u'contains(realistic)': False,\n",
       " u'contains(parent)': False,\n",
       " u'contains(love)': False,\n",
       " u'contains(completely)': False,\n",
       " u'contains(also)': False,\n",
       " u'contains(meets)': False,\n",
       " u'contains(graphic)': False,\n",
       " u'contains(left)': False,\n",
       " u'contains(teachers)': False,\n",
       " u'contains(success)': False,\n",
       " u'contains(moves)': False,\n",
       " u'contains(approach)': False,\n",
       " u'contains(honest)': False,\n",
       " u'contains(connection)': False,\n",
       " u'contains(fifty)': False,\n",
       " u'contains(important)': False,\n",
       " u'contains(scientific)': False,\n",
       " u'contains(would)': False,\n",
       " u'contains(lack)': False,\n",
       " u'contains(beliefs)': False,\n",
       " u'contains(dreams)': False,\n",
       " u'contains(hilarious)': False,\n",
       " u'contains(daily)': False,\n",
       " u'contains(lifestyle)': False,\n",
       " u'contains(young)': False,\n",
       " u'contains(without)': False,\n",
       " u'contains(including)': False,\n",
       " u'contains(grew)': False,\n",
       " u'contains(web)': False,\n",
       " u'contains(expect)': False,\n",
       " u'contains(battle)': False,\n",
       " u'contains(toward)': False,\n",
       " u'contains(working)': False,\n",
       " u'contains(gabriel)': False,\n",
       " u'contains(expressed)': False,\n",
       " u'contains(build)': False,\n",
       " u'contains(john)': False,\n",
       " u'contains(grow)': False,\n",
       " u'contains(descriptions)': False,\n",
       " u'contains(various)': False,\n",
       " u'contains(practical)': False,\n",
       " u'contains(entertaining)': False,\n",
       " u'contains(foods)': False,\n",
       " u'contains(continues)': False,\n",
       " u'contains(nate)': False,\n",
       " u'contains(whats)': False,\n",
       " u'contains(violent)': False,\n",
       " u'contains(background)': False,\n",
       " u'contains(21)': False,\n",
       " u'contains(last)': False,\n",
       " u'contains(stone)': False,\n",
       " u'contains(jokes)': False,\n",
       " u'contains(aside)': False,\n",
       " u'contains(choice)': False,\n",
       " u'contains(willing)': False,\n",
       " u'contains(agree)': False,\n",
       " u'contains(gods)': False,\n",
       " u'contains(rare)': False,\n",
       " u'contains(could)': False,\n",
       " u'contains(gray)': False,\n",
       " u'contains(pictures)': False,\n",
       " u'contains(required)': False,\n",
       " u'contains(power)': False,\n",
       " u'contains(full)': False,\n",
       " u'contains(even)': False,\n",
       " u'contains(field)': False,\n",
       " u'contains(thriller)': False,\n",
       " u'contains(theyre)': False,\n",
       " u'contains(giving)': False,\n",
       " u'contains(day)': False,\n",
       " u'contains(computer)': False,\n",
       " u'contains(comes)': False,\n",
       " u'contains(one)': False,\n",
       " u'contains(sad)': False,\n",
       " u'contains(culture)': False,\n",
       " u'contains(feels)': False,\n",
       " u'contains(female)': False,\n",
       " u'contains(becomes)': False,\n",
       " u'contains(buy)': False,\n",
       " u'contains(form)': False,\n",
       " u'contains(robert)': False,\n",
       " u'contains(matter)': False,\n",
       " u'contains(set)': False,\n",
       " u'contains(tale)': False,\n",
       " u'contains(apparently)': False,\n",
       " u'contains(scenes)': False,\n",
       " u'contains(product)': False,\n",
       " u'contains(appeal)': False,\n",
       " u'contains(running)': False,\n",
       " u'contains(taken)': False,\n",
       " u'contains(courage)': False,\n",
       " u'contains(struggle)': False,\n",
       " u'contains(took)': False,\n",
       " u'contains(wonderful)': False,\n",
       " u'contains(tales)': False,\n",
       " u'contains(public)': False,\n",
       " u'contains(cases)': False,\n",
       " u'contains(order)': False,\n",
       " u'contains(addition)': False,\n",
       " u'contains(thought)': False,\n",
       " u'contains(whether)': False,\n",
       " u'contains(mostly)': False,\n",
       " u'contains(trust)': False,\n",
       " u'contains(fairly)': False,\n",
       " u'contains(sound)': False,\n",
       " u'contains(please)': False,\n",
       " u'contains(deeper)': False,\n",
       " u'contains(today)': False,\n",
       " u'contains(science)': False,\n",
       " u'contains(sense)': False,\n",
       " u'contains(gone)': False,\n",
       " u'contains(lord)': False,\n",
       " u'contains(perfectly)': False,\n",
       " u'contains(admit)': False,\n",
       " u'contains(upon)': False,\n",
       " u'contains(mention)': False,\n",
       " u'contains(miss)': False,\n",
       " u'contains(result)': False,\n",
       " u'contains(thoroughly)': False,\n",
       " u'contains(getting)': False,\n",
       " u'contains(back)': False,\n",
       " u'contains(references)': False,\n",
       " u'contains(country)': False,\n",
       " u'contains(enjoy)': False,\n",
       " u'contains(car)': False,\n",
       " u'contains(experience)': False,\n",
       " u'contains(behind)': False,\n",
       " u'contains(due)': False,\n",
       " u'contains(uncle)': False,\n",
       " u'contains(add)': False,\n",
       " u'contains(brothers)': False,\n",
       " u'contains(local)': False,\n",
       " u'contains(universe)': False,\n",
       " u'contains(terms)': False,\n",
       " u'contains(family)': False,\n",
       " u'contains(things)': False,\n",
       " u'contains(ordered)': False,\n",
       " u'contains(christians)': False,\n",
       " u'contains(pieces)': False,\n",
       " u'contains(plus)': False,\n",
       " u'contains(packed)': False,\n",
       " u'contains(content)': False,\n",
       " u'contains(street)': False,\n",
       " u'contains(picture)': False,\n",
       " u'contains(new)': False,\n",
       " u'contains(programs)': False,\n",
       " u'contains(hardly)': False,\n",
       " u'contains(near)': False,\n",
       " u'contains(waiting)': False,\n",
       " u'contains(finds)': False,\n",
       " u'contains(3)': False,\n",
       " u'contains(mistakes)': False,\n",
       " u'contains(charlotte)': False,\n",
       " u'contains(!)': False,\n",
       " u'contains(experienced)': False,\n",
       " u'contains(secret)': False,\n",
       " u'contains(20)': False,\n",
       " u'contains(pay)': False,\n",
       " u'contains(star)': False,\n",
       " u'contains(code)': False,\n",
       " u'contains(entire)': False,\n",
       " u'contains(watch)': False,\n",
       " u'contains(adult)': False,\n",
       " u'contains(project)': False,\n",
       " u'contains(third)': False,\n",
       " u'contains(disappointed)': False,\n",
       " u'contains(race)': False,\n",
       " u'contains(see)': False,\n",
       " u'contains(making)': False,\n",
       " u'contains(simply)': False,\n",
       " u'contains(responsible)': False,\n",
       " u'contains(adventure)': False,\n",
       " u'contains(kindle)': False,\n",
       " u'contains(hot)': False,\n",
       " u'contains(funny)': False,\n",
       " u'contains(overall)': False,\n",
       " u'contains(people)': False,\n",
       " u'contains(lets)': False,\n",
       " u'contains(perhaps)': False,\n",
       " u'contains(greatest)': False,\n",
       " u'contains(cant)': False,\n",
       " u'contains(page)': False,\n",
       " u'contains(publishing)': False,\n",
       " u'contains(research)': False,\n",
       " u'contains(personal)': False,\n",
       " u'contains(deans)': False,\n",
       " u'contains(advice)': False,\n",
       " u'contains(work)': False,\n",
       " u'contains(jonathan)': False,\n",
       " u'contains(basic)': False,\n",
       " u'contains(im)': False,\n",
       " u'contains(dealing)': False,\n",
       " u'contains(suspect)': False,\n",
       " u'contains(sometimes)': False,\n",
       " u'contains(parts)': False,\n",
       " ...}"
      ]
     },
     "execution_count": 376,
     "metadata": {},
     "output_type": "execute_result"
    }
   ],
   "source": [
    "extract_features([\"disappointing\",\"book\"])"
   ]
  },
  {
   "cell_type": "code",
   "execution_count": 377,
   "metadata": {
    "collapsed": false
   },
   "outputs": [
    {
     "data": {
      "text/plain": [
       "[({u'contains(waste)': True, u'contains(lot)': True, u'contains(black)': True, u'contains(understand)': True, u'contains(cost)': False, u'contains(patterson)': False, u'contains(drug)': False, u'contains(case)': True, u'contains(created)': True, u'contains(needed)': False, u'contains(explains)': False, u'contains(c)': True, u'contains(catches)': False, u'contains(longer)': True, u'contains(dont)': True, u'contains(ready)': True, u'contains(certainly)': True, u'contains(fans)': False, u'contains(introduction)': True, u'contains(seen)': True, u'contains(fan)': True, u'contains(robin)': True, u'contains(moments)': True, u'contains(know)': True, u'contains(deal)': True, u'contains(law)': False, u'contains(started)': True, u'contains(reader)': True, u'contains(brutal)': False, u'contains(tension)': True, u'contains(saying)': True, u'contains(justice)': True, u'contains(focus)': True, u'contains(knew)': True, u'contains(stories)': True, u'contains(fiction)': True, u'contains(drawn)': True, u'contains(policy)': True, u'contains(couldnt)': True, u'contains(variety)': False, u'contains(data)': True, u'contains(attention)': True, u'contains(younger)': True, u'contains(son)': False, u'contains(crazy)': True, u'contains(americans)': False, u'contains(depth)': False, u'contains(respect)': True, u'contains(boring)': True, u'contains(fear)': False, u'contains(watched)': True, u'contains(knows)': True, u'contains(scene)': True, u'contains(three)': True, u'contains(shock)': True, u'contains(reviews)': True, u'contains(amazon)': True, u'contains(talk)': True, u'contains(number)': True, u'contains(followed)': True, u'contains(events)': False, u'contains(disappointing)': True, u'contains(lessons)': False, u'contains(lee)': False, u'contains(etc)': True, u'contains(heavy)': False, u'contains(trip)': True, u'contains(begin)': True, u'contains(covered)': True, u'contains(picked)': True, u'contains(complaints)': True, u'contains(shows)': False, u'contains(despite)': True, u'contains(pages)': True, u'contains(go)': True, u'contains(anna)': False, u'contains(fantasy)': True, u'contains(amount)': True, u'contains(days)': True, u'contains(strange)': True, u'contains(nature)': True, u'contains(overcome)': False, u'contains(sees)': True, u'contains(fictional)': True, u'contains(cat)': False, u'contains(bad)': True, u'contains(wine)': True, u'contains(hear)': False, u'contains(audience)': True, u'contains(literally)': True, u'contains(strong)': True, u'contains(considered)': False, u'contains(adults)': True, u'contains(authors)': True, u'contains(interest)': True, u'contains(answer)': False, u'contains(survival)': True, u'contains(met)': False, u'contains(hopes)': False, u'contains(evil)': True, u'contains(ask)': True, u'contains(reality)': False, u'contains(called)': True, u'contains(history)': True, u'contains(discovered)': False, u'contains(described)': True, u'contains(holds)': True, u'contains(physical)': True, u'contains(helping)': False, u'contains(kids)': True, u'contains(mentioned)': False, u'contains(financial)': True, u'contains(filled)': True, u'contains(unfortunately)': True, u'contains(prose)': True, u'contains(drive)': False, u'contains(bones)': False, u'contains(middle)': True, u'contains(nicely)': False, u'contains(fund)': False, u'contains(jesus)': False, u'contains(guess)': True, u'contains(struggles)': False, u'contains(eclipse)': False, u'contains(wonder)': True, u'contains(michael)': False, u'contains(fun)': True, u'contains(simple)': True, u'contains(trials)': True, u'contains(think)': True, u'contains(used)': True, u'contains(eyes)': True, u'contains(connected)': False, u'contains(born)': True, u'contains(rebecca)': False, u'contains(thats)': True, u'contains(court)': True, u'contains(follow)': True, u'contains(state)': True, u'contains(end)': True, u'contains(actions)': False, u'contains(heard)': False, u'contains(ideas)': True, u'contains(opinion)': True, u'contains(loves)': True, u'contains(childrens)': True, u'contains(best)': True, u'contains(relevant)': True, u'contains(readers)': True, u'contains(predictable)': True, u'contains(quality)': True, u'contains(action)': True, u'contains(companion)': False, u'contains(another)': True, u'contains(spiritual)': True, u'contains(healing)': False, u'contains(passion)': False, u'contains(professional)': False, u'contains(ya)': False, u'contains(theme)': True, u'contains(stop)': True, u'contains(include)': True, u'contains(rather)': True, u'contains(carry)': False, u'contains(ways)': True, u'contains(element)': True, u'contains(alive)': True, u'contains(pulled)': True, u'contains(laugh)': True, u'contains(program)': False, u'contains(turns)': True, u'contains(master)': False, u'contains(word)': True, u'contains(includes)': False, u'contains(path)': True, u'contains(recipe)': True, u'contains(sure)': True, u'contains(whatever)': True, u'contains(times)': True, u'contains(incredible)': False, u'contains(inside)': True, u'contains(captivated)': False, u'contains(paranormal)': True, u'contains(plot)': True, u'contains(hearts)': True, u'contains(speaking)': False, u'contains(easily)': True, u'contains(already)': True, u'contains(setting)': True, u'contains(really)': True, u'contains(tried)': True, u'contains(hours)': True, u'contains(real)': True, u'contains(create)': True, u'contains(religion)': False, u'contains(slowly)': True, u'contains(offers)': True, u'contains(age)': False, u'contains(want)': True, u'contains(huge)': True, u'contains(close)': True, u'contains(james)': True, u'contains(nation)': False, u'contains(6)': True, u'contains(topic)': True, u'contains(liked)': True, u'contains(wasnt)': True, u'contains(shes)': True, u'contains(violence)': False, u'contains(bought)': True, u'contains(often)': True, u'contains(lead)': True, u'contains(place)': True, u'contains(character)': True, u'contains(made)': True, u'contains(theories)': False, u'contains(kind)': True, u'contains(worst)': True, u'contains(killing)': True, u'contains(de)': False, u'contains(ride)': False, u'contains(process)': True, u'contains(suddenly)': True, u'contains(search)': True, u'contains(america)': False, u'contains(brother)': True, u'contains(goes)': True, u'contains(becoming)': True, u'contains(4)': True, u'contains(exceptional)': True, u'contains(business)': True, u'contains(describes)': False, u'contains(pressure)': False, u'contains(material)': True, u'contains(came)': True, u'contains(war)': True, u'contains(style)': True, u'contains(results)': False, u'contains(issue)': True, u'contains(vampire)': False, u'contains(may)': True, u'contains(leave)': True, u'contains(trilogy)': False, u'contains(church)': False, u'contains(loved)': True, u'contains(based)': True, u'contains(lover)': True, u'contains(appreciate)': True, u'contains(stage)': True, u'contains(wrong)': True, u'contains(useful)': True, u'contains(school)': True, u'contains(food)': True, u'contains(main)': True, u'contains(opportunity)': False, u'contains(boygirls)': False, u'contains(genre)': False, u'contains(means)': True, u'contains(serve)': False, u'contains(cut)': True, u'contains(powerful)': False, u'contains(pandas)': True, u'contains(trying)': True, u'contains(answers)': False, u'contains(compelling)': True, u'contains(appear)': True, u'contains(felt)': True, u'contains(brings)': True, u'contains(group)': True, u'contains(guide)': True, u'contains(brad)': False, u'contains(journey)': False, u'contains(level)': True, u'contains(finished)': True, u'contains(patients)': False, u'contains(feel)': True, u'contains(said)': True, u'contains(older)': False, u'contains(behavior)': True, u'contains(need)': True, u'contains(worked)': True, u'contains(move)': True, u'contains(provides)': False, u'contains(walk)': False, u'contains(frog)': False, u'contains(greek)': False, u'contains(laughed)': False, u'contains(maybe)': True, u'contains(dialogue)': True, u'contains(reasons)': True, u'contains(killed)': True, u'contains(rarely)': False, u'contains(included)': True, u'contains(makes)': True, u'contains(oh)': True, u'contains(south)': False, u'contains(attitude)': True, u'contains(peter)': False, u'contains(red)': True, u'contains(fears)': False, u'contains(salvation)': True, u'contains(couple)': True, u'contains(watching)': False, u'contains(mary)': True, u'contains(rich)': True, u'contains(emotions)': False, u'contains(clara)': False, u'contains(theology)': True, u'contains(study)': True, u'contains(ones)': True, u'contains(diet)': True, u'contains(wars)': False, u'contains(piece)': True, u'contains(music)': False, u'contains(pull)': True, u'contains(library)': True, u'contains(though)': True, u'contains(thinks)': True, u'contains(seem)': True, u'contains(steps)': True, u'contains(pick)': True, u'contains(youll)': True, u'contains(children)': False, u'contains(better)': True, u'contains(since)': True, u'contains(guys)': True, u'contains(peculiar)': True, u'contains(informative)': False, u'contains(intriguing)': False, u'contains(cause)': False, u'contains(cover)': True, u'contains(high)': True, u'contains(needs)': True, u'contains(city)': False, u'contains(different)': True, u'contains(provide)': True, u'contains(college)': True, u'contains(voice)': True, u'contains(military)': False, u'contains(edge)': False, u'contains(reading)': True, u'contains(accurate)': True, u'contains(draw)': True, u'contains(fire)': False, u'contains(child)': True, u'contains(husband)': True, u'contains(customer)': True, u'contains(difference)': False, u'contains(apart)': True, u'contains(grand)': False, u'contains(covers)': True, u'contains(kid)': False, u'contains(short)': True, u'contains(focuses)': True, u'contains(storm)': False, u'contains(personality)': True, u'contains(little)': True, u'contains(happening)': True, u'contains(message)': True, u'contains(tragic)': False, u'contains(introduced)': True, u'contains(president)': True, u'contains(try)': True, u'contains(detailed)': False, u'contains(area)': True, u'contains(reminded)': True, u'contains(author)': True, u'contains(questions)': True, u'contains(familiar)': True, u'contains(still)': True, u'contains(text)': True, u'contains(emma)': False, u'contains(tragedy)': False, u'contains(conclusion)': True, u'contains(treatment)': True, u'contains(life)': True, u'contains(home)': True, u'contains(highly)': True, u'contains(party)': True, u'contains(ray)': False, u'contains(old)': True, u'contains(necessary)': False, u'contains(wrote)': True, u'contains(health)': False, u'contains(total)': True, u'contains(unless)': True, u'contains(kyles)': False, u'contains(mothers)': False, u'contains(ends)': False, u'contains(yes)': False, u'contains(others)': True, u'contains(training)': True, u'contains(jack)': False, u'contains(beginning)': True, u'contains(oils)': False, u'contains(least)': True, u'contains(attempt)': True, u'contains(looking)': True, u'contains(saw)': True, u'contains(broken)': False, u'contains(immediately)': False, u'contains(chapters)': True, u'contains(imagination)': True, u'contains(language)': True, u'contains(write)': True, u'contains(gripping)': True, u'contains(talking)': True, u'contains(ann)': False, u'contains(detail)': True, u'contains(cole)': False, u'contains(beyond)': True, u'contains(open)': True, u'contains(second)': True, u'contains(mysteries)': False, u'contains(hydrogen)': False, u'contains(account)': False, u'contains(turned)': True, u'contains(la)': False, u'contains(use)': True, u'contains(control)': True, u'contains(joe)': False, u'contains(charming)': False, u'contains(wisdom)': True, u'contains(wanted)': True, u'contains(childhood)': False, u'contains(house)': True, u'contains(christian)': True, u'contains(began)': True, u'contains(taste)': True, u'contains(games)': False, u'contains(exchange)': True, u'contains(novels)': True, u'contains(lady)': True, u'contains(lovely)': True, u'contains(reads)': True, u'contains(hit)': True, u'contains(adventures)': False, u'contains(start)': True, u'contains(recent)': True, u'contains(successful)': True, u'contains(vampires)': False, u'contains(jacob)': False, u'contains(subject)': True, u'contains(experiences)': True, u'contains(indeed)': True, u'contains(traditional)': True, u'contains(like)': True, u'contains(romantic)': True, u'contains(stay)': True, u'contains(tim)': False, u'contains(freedom)': True, u'contains(bit)': True, u'contains(leads)': True, u'contains(god)': True, u'contains(powers)': True, u'contains(market)': True, u'contains(except)': False, u'contains(take)': True, u'contains(cool)': False, u'contains(note)': False, u'contains(insightful)': False, u'contains(bring)': False, u'contains(teens)': False, u'contains(river)': True, u'contains(thank)': True, u'contains(carries)': True, u'contains(visit)': False, u'contains(healthy)': True, u'contains(sex)': True, u'contains(plenty)': True, u'contains(usually)': True, u'contains(grown)': True, u'contains(keeps)': False, u'contains(isnt)': True, u'contains(complete)': False, u'contains(copy)': True, u'contains(initially)': False, u'contains(put)': True, u'contains(must)': True, u'contains(general)': True, u'contains(dark)': True, u'contains(minor)': False, u'contains(believe)': True, u'contains(wondering)': False, u'contains(whose)': True, u'contains(bar)': True, u'contains(book)': True, u'contains(alex)': True, u'contains(premise)': True, u'contains(later)': True, u'contains(missed)': True, u'contains(something)': True, u'contains(economy)': False, u'contains(essential)': False, u'contains(among)': False, u'contains(view)': True, u'contains(wants)': True, u'contains(emotional)': True, u'contains(points)': True, u'contains(cold)': True, u'contains(teacher)': True, u'contains(information)': True, u'contains(forced)': True, u'contains(become)': True, u'contains(especially)': True, u'contains(shares)': False, u'contains(heal)': False, u'contains(rose)': True, u'contains(front)': False, u'contains(along)': True, u'contains(guilt)': False, u'contains(medical)': True, u'contains(fall)': True, u'contains(latest)': True, u'contains(purchase)': True, u'contains(engaging)': False, u'contains(afraid)': True, u'contains(five)': True, u'contains(classic)': True, u'contains(girls)': True, u'contains(weight)': True, u'contains(human)': True, u'contains(former)': True, u'contains(civil)': False, u'contains(example)': True, u'contains(insight)': False, u'contains(eye)': True, u'contains(totally)': True, u'contains(stars)': True, u'contains(lost)': True, u'contains(arrives)': True, u'contains(15)': True, u'contains(big)': True, u'contains(system)': True, u'contains(prove)': True, u'contains(stuck)': False, u'contains(married)': False, u'contains(media)': True, u'contains(thing)': True, u'contains(spend)': True, u'contains(british)': False, u'contains(feeling)': True, u'contains(reread)': False, u'contains(daughter)': False, u'contains(team)': False, u'contains(final)': True, u'contains(recommended)': True, u'contains(task)': True, u'contains(step)': True, u'contains(offering)': True, u'contains(amanda)': False, u'contains(develop)': True, u'contains(helped)': False, u'contains(sorry)': True, u'contains(looks)': True, u'contains(ancient)': False, u'contains(fact)': True, u'contains(ten)': True, u'contains(survive)': True, u'contains(class)': True, u'contains(return)': True, u'contains(amazing)': True, u'contains(doubt)': True, u'contains(memoir)': False, u'contains(modern)': True, u'contains(storyline)': False, u'contains(reference)': True, u'contains(witty)': True, u'contains(us)': True, u'contains(chance)': True, u'contains(living)': True, u'contains(hooked)': True, u'contains(learn)': True, u'contains(characters)': True, u'contains(method)': True, u'contains(sent)': True, u'contains(follows)': True, u'contains(balance)': False, u'contains(choose)': True, u'contains(film)': False, u'contains(ending)': True, u'contains(probably)': True, u'contains(academic)': False, u'contains(complex)': False, u'contains(blind)': False, u'contains(learning)': False, u'contains(ok)': True, u'contains(course)': True, u'contains(hunting)': True, u'contains(kill)': True, u'contains(soul)': False, u'contains(available)': True, u'contains(wanting)': True, u'contains(friend)': True, u'contains(small)': True, u'contains(keep)': True, u'contains(mean)': True, u'contains(writers)': True, u'contains(far)': True, u'contains(passed)': False, u'contains(trouble)': True, u'contains(police)': True, u'contains(focused)': False, u'contains(got)': True, u'contains(sexual)': True, u'contains(list)': True, u'contains(earlier)': True, u'contains(recipes)': True, u'contains(political)': True, u'contains(nicholas)': False, u'contains(regret)': True, u'contains(stuff)': True, u'contains(gotten)': False, u'contains(12)': True, u'contains(revolution)': False, u'contains(puts)': True, u'contains(expected)': True, u'contains(wont)': True, u'contains(stand)': True, u'contains(face)': True, u'contains(quick)': True, u'contains(dead)': True, u'contains(address)': True, u'contains(beautiful)': True, u'contains(gifts)': False, u'contains(brain)': True, u'contains(tells)': True, u'contains(act)': True, u'contains(paced)': True, u'contains(death)': False, u'contains(lines)': True, u'contains(finally)': True, u'contains(charles)': True, u'contains(rating)': True, u'contains(remember)': True, u'contains(enjoyed)': True, u'contains(western)': True, u'contains(literature)': True, u'contains(root)': True, u'contains(around)': True, u'contains(club)': False, u'contains(slow)': True, u'contains(fast)': True, u'contains(following)': True, u'contains(right)': True, u'contains(north)': False, u'contains(purchased)': True, u'contains(learned)': True, u'contains(look)': True, u'contains(happened)': True, u'contains(description)': True, u'contains(white)': True, u'contains(mr)': True, u'contains(section)': True, u'contains(serious)': True, u'contains(historical)': True, u'contains(skills)': True, u'contains(kept)': True, u'contains(opinions)': True, u'contains(point)': True, u'contains(fighting)': False, u'contains(popular)': True, u'contains(position)': True, u'contains(nice)': True, u'contains(someone)': True, u'contains(st)': False, u'contains(society)': False, u'contains(everyone)': True, u'contains(havent)': False, u'contains(seemed)': True, u'contains(yet)': True, u'contains(land)': True, u'contains(ill)': True, u'contains(lives)': True, u'contains(showing)': False, u'contains(island)': False, u'contains(girl)': True, u'contains(free)': True, u'contains(reviewed)': True, u'contains(edition)': True, u'contains(find)': True, u'contains(thinking)': True, u'contains(light)': True, u'contains(relationship)': True, u'contains(publisher)': True, u'contains(mark)': False, u'contains(works)': True, u'contains(excited)': True, u'contains(major)': True, u'contains(doesnt)': True, u'contains(disney)': False, u'contains(drama)': False, u'contains(extreme)': True, u'contains(father)': True, u'contains(excellent)': True, u'contains(famous)': True, u'contains(alone)': True, u'contains(?)': True, u'contains(anything)': True, u'contains(emily)': True, u'contains(kyle)': True, u'contains(happens)': True, u'contains(almost)': True, u'contains(top)': False, u'contains(theres)': True, u'contains(relatively)': False, u'contains(building)': False, u'contains(criticism)': True, u'contains(5)': True, u'contains(photos)': True, u'contains(problem)': True, u'contains(consider)': True, u'contains(absolutely)': True, u'contains(fully)': False, u'contains(lesson)': True, u'contains(disease)': False, u'contains(mom)': True, u'contains(spent)': True, u'contains(dr)': True, u'contains(together)': True, u'contains(purpose)': False, u'contains(although)': True, u'contains(margaret)': False, u'contains(men)': True, u'contains(christmas)': False, u'contains(leader)': False, u'contains(enjoyable)': True, u'contains(seeing)': True, u'contains(elements)': True, u'contains(gets)': True, u'contains(break)': True, u'contains(explain)': True, u'contains(david)': False, u'contains(man)': True, u'contains(truth)': True, u'contains(via)': True, u'contains(year)': True, u'contains(finish)': True, u'contains(happen)': True, u'contains(texas)': False, u'contains(forms)': False, u'contains(half)': True, u'contains(forever)': False, u'contains(sort)': False, u'contains(wait)': True, u'contains(developed)': True, u'contains(offer)': True, u'contains(title)': True, u'contains(secrets)': False, u'contains(ultimately)': True, u'contains(side)': False, u'contains(says)': True, u'contains(beauty)': True, u'contains(hes)': True, u'contains(boys)': False, u'contains(ms)': True, u'contains(game)': True, u'contains(failed)': False, u'contains(facts)': True, u'contains(cook)': False, u'contains(able)': True, u'contains(quickly)': True, u'contains(friends)': False, u'contains(come)': True, u'contains(part)': True, u'contains(states)': False, u'contains(desperate)': True, u'contains(york)': True, u'contains(instead)': True, u'contains(feelings)': False, u'contains(beautifully)': False, u'contains(madison)': False, u'contains(humans)': False, u'contains(pace)': True, u'contains(fathers)': True, u'contains(soon)': True, u'contains(coming)': False, u'contains(effects)': True, u'contains(harry)': False, u'contains(topics)': True, u'contains(elizabeth)': False, u'contains(male)': True, u'contains(lived)': False, u'contains(less)': True, u'contains(fine)': True, u'contains(definitely)': True, u'contains(moment)': False, u'contains(ago)': True, u'contains(person)': True, u'contains(similar)': True, u'contains(using)': True, u'contains(decided)': True, u'contains(late)': True, u'contains(first)': True, u'contains(impossible)': True, u'contains(tell)': True, u'contains(christ)': True, u'contains(readable)': True, u'contains(minute)': False, u'contains(room)': True, u'contains(balanced)': True, u'contains(fantastic)': False, u'contains(government)': True, u'contains(art)': False, u'contains(current)': False, u'contains(realistic)': False, u'contains(parent)': True, u'contains(love)': True, u'contains(completely)': True, u'contains(also)': True, u'contains(meets)': True, u'contains(graphic)': False, u'contains(left)': True, u'contains(teachers)': False, u'contains(success)': True, u'contains(moves)': True, u'contains(approach)': True, u'contains(honest)': False, u'contains(connection)': True, u'contains(fifty)': False, u'contains(important)': True, u'contains(scientific)': True, u'contains(would)': True, u'contains(lack)': True, u'contains(beliefs)': False, u'contains(dreams)': False, u'contains(hilarious)': True, u'contains(daily)': False, u'contains(lifestyle)': False, u'contains(young)': True, u'contains(without)': True, u'contains(including)': True, u'contains(grew)': False, u'contains(web)': True, u'contains(expect)': False, u'contains(battle)': False, u'contains(toward)': False, u'contains(working)': True, u'contains(gabriel)': False, u'contains(expressed)': True, u'contains(build)': True, u'contains(john)': True, u'contains(grow)': False, u'contains(descriptions)': True, u'contains(various)': True, u'contains(practical)': False, u'contains(entertaining)': False, u'contains(foods)': False, u'contains(continues)': True, u'contains(nate)': False, u'contains(whats)': True, u'contains(violent)': True, u'contains(background)': True, u'contains(21)': True, u'contains(last)': True, u'contains(stone)': True, u'contains(jokes)': True, u'contains(aside)': True, u'contains(choice)': True, u'contains(willing)': False, u'contains(agree)': True, u'contains(gods)': True, u'contains(rare)': True, u'contains(could)': True, u'contains(gray)': False, u'contains(pictures)': True, u'contains(required)': False, u'contains(power)': True, u'contains(full)': True, u'contains(even)': True, u'contains(field)': False, u'contains(thriller)': False, u'contains(theyre)': True, u'contains(giving)': True, u'contains(day)': True, u'contains(computer)': True, u'contains(comes)': True, u'contains(one)': True, u'contains(sad)': True, u'contains(culture)': False, u'contains(feels)': False, u'contains(female)': True, u'contains(becomes)': True, u'contains(buy)': True, u'contains(form)': True, u'contains(robert)': True, u'contains(matter)': True, u'contains(set)': True, u'contains(tale)': True, u'contains(apparently)': True, u'contains(scenes)': True, u'contains(product)': True, u'contains(appeal)': False, u'contains(running)': True, u'contains(taken)': True, u'contains(courage)': False, u'contains(struggle)': True, u'contains(took)': True, u'contains(wonderful)': True, u'contains(tales)': False, u'contains(public)': True, u'contains(cases)': True, u'contains(order)': True, u'contains(addition)': False, u'contains(thought)': True, u'contains(whether)': True, u'contains(mostly)': True, u'contains(trust)': True, u'contains(fairly)': False, u'contains(sound)': True, u'contains(please)': True, u'contains(deeper)': False, u'contains(today)': True, u'contains(science)': True, u'contains(sense)': True, u'contains(gone)': True, u'contains(lord)': False, u'contains(perfectly)': False, u'contains(admit)': True, u'contains(upon)': True, u'contains(mention)': True, u'contains(miss)': True, u'contains(result)': False, u'contains(thoroughly)': True, u'contains(getting)': True, u'contains(back)': True, u'contains(references)': True, u'contains(country)': True, u'contains(enjoy)': True, u'contains(car)': True, u'contains(experience)': True, u'contains(behind)': True, u'contains(due)': True, u'contains(uncle)': True, u'contains(add)': True, u'contains(brothers)': False, u'contains(local)': True, u'contains(universe)': True, u'contains(terms)': False, u'contains(family)': True, u'contains(things)': True, u'contains(ordered)': True, u'contains(christians)': True, u'contains(pieces)': False, u'contains(plus)': True, u'contains(packed)': False, u'contains(content)': True, u'contains(street)': False, u'contains(picture)': False, u'contains(new)': True, u'contains(programs)': True, u'contains(hardly)': True, u'contains(near)': False, u'contains(waiting)': False, u'contains(finds)': True, u'contains(3)': True, u'contains(mistakes)': True, u'contains(charlotte)': False, u'contains(!)': True, u'contains(experienced)': True, u'contains(secret)': True, u'contains(20)': False, u'contains(pay)': True, u'contains(star)': True, u'contains(code)': True, u'contains(entire)': True, u'contains(watch)': True, u'contains(adult)': False, u'contains(project)': True, u'contains(third)': True, u'contains(disappointed)': True, u'contains(race)': False, u'contains(see)': True, u'contains(making)': True, u'contains(simply)': True, u'contains(responsible)': False, u'contains(adventure)': True, u'contains(kindle)': True, u'contains(hot)': True, u'contains(funny)': True, u'contains(overall)': True, u'contains(people)': True, u'contains(lets)': False, u'contains(perhaps)': True, u'contains(greatest)': False, u'contains(cant)': True, u'contains(page)': True, u'contains(publishing)': True, u'contains(research)': True, u'contains(personal)': True, u'contains(deans)': False, u'contains(advice)': True, u'contains(work)': True, u'contains(jonathan)': False, u'contains(basic)': True, u'contains(im)': True, u'contains(dealing)': True, u'contains(suspect)': True, u'contains(sometimes)': True, u'contains(parts)': True, u'contains(original)': True, u'contains(positive)': True, u'contains(question)': True, u'contains(else)': True, u'contains(every)': True, u'contains(eat)': True, u'contains(football)': True, u'contains(mountain)': False, u'contains(errors)': True, u'contains(perspective)': True, u'contains(super)': True, u'contains(much)': True, u'contains(girlfriend)': False, u'contains(eventually)': False, u'contains(gives)': False, u'contains(youre)': True, u'contains(say)': True, u'contains(thoughts)': False, u'contains(read)': True, u'contains(bible)': False, u'contains(forces)': True, u'contains(mine)': False, u'contains(smart)': False, u'contains(world)': True, u'contains(possibly)': True, u'contains(two)': True, u'contains(england)': False, u'contains(mother)': True, u'contains(television)': True, u'contains(falls)': True, u'contains(helpful)': True, u'contains(give)': True, u'contains(installment)': False, u'contains(murder)': False, u'contains(revealed)': True, u'contains(takes)': True, u'contains(loose)': True, u'contains(single)': True, u'contains(range)': True, u'contains(money)': True, u'contains(years)': True, u'contains(deep)': True, u'contains(happy)': False, u'contains(starts)': True, u'contains(easy)': True, u'contains(fit)': False, u'contains(benefit)': True, u'contains(four)': True, u'contains(get)': True, u'contains(surprise)': True, u'contains(always)': True, u'contains(opposite)': False, u'contains(care)': True, u'contains(past)': True, u'contains(regarding)': True, u'contains(pretty)': True, u'contains(books)': True, u'contains(teaching)': False, u'contains(glad)': True, u'contains(2)': True, u'contains(knowledge)': True, u'contains(save)': True, u'contains(believed)': False, u'contains(built)': True, u'contains(design)': True, u'contains(mysterious)': False, u'contains(effect)': True, u'contains(gabe)': False, u'contains(manage)': True, u'contains(interesting)': True, u'contains(dice)': False, u'contains(intelligent)': False, u'contains(delightful)': False, u'contains(attraction)': False, u'contains(caught)': False, u'contains(named)': True, u'contains(30)': True, u'contains(received)': True, u'contains(seems)': True, u'contains(deeply)': False, u'contains(either)': True, u'contains(understanding)': True, u'contains(table)': True, u'contains(written)': True, u'contains(romance)': True, u'contains(play)': True, u'contains(volume)': True, u'contains(social)': True, u'contains(starting)': False, u'contains(situation)': True, u'contains(tries)': True, u'contains(families)': True, u'contains(image)': True, u'contains(connect)': True, u'contains(sarah)': False, u'contains(favorite)': False, u'contains(thanks)': True, u'contains(sections)': False, u'contains(otherwise)': True, u'contains(sister)': True, u'contains(early)': True, u'contains(went)': True, u'contains(handsome)': True, u'contains(moral)': True, u'contains(flawed)': True, u'contains(wish)': True, u'contains(harris)': False, u'contains(movie)': True, u'contains(begins)': True, u'contains(moving)': False, u'contains(support)': False, u'contains(examples)': True, u'contains(suspense)': False, u'contains(wide)': True, u'contains(twist)': True, u'contains(english)': True, u'contains(effort)': True, u'contains(realize)': True, u'contains(conflict)': False, u'contains(mind)': True, u'contains(heroine)': True, u'contains(ever)': True, u'contains(desire)': False, u'contains(never)': True, u'contains(chris)': False, u'contains(expecting)': True, u'contains(tears)': False, u'contains(seriously)': True, u'contains(idea)': True, u'contains(fae)': False, u'contains(didnt)': True, u'contains(way)': True, u'contains(greater)': True, u'contains(review)': True, u'contains(turn)': True, u'contains(committed)': False, u'contains(special)': True, u'contains(chapter)': True, u'contains(politics)': True, u'contains(faith)': True, u'contains(help)': True, u'contains(many)': True, u'contains(truly)': True, u'contains(shot)': False, u'contains(thrown)': True, u'contains(nothing)': True, u'contains(practice)': True, u'contains(erotic)': True, u'contains(outstanding)': False, u'contains(grace)': True, u'contains(novel)': True, u'contains(writing)': True, u'contains(cute)': True, u'contains(obviously)': True, u'contains(figure)': True, u'contains(obvious)': False, u'contains(office)': False, u'contains(hand)': True, u'contains(adams)': True, u'contains(geisler)': True, u'contains(value)': True, u'contains(imagine)': False, u'contains(website)': True, u'contains(head)': True, u'contains(1)': True, u'contains(relate)': True, u'contains(worth)': True, u'contains(months)': True, u'contains(helps)': False, u'contains(company)': True, u'contains(hurt)': False, u'contains(creative)': False, u'contains(moved)': True, u'contains(magic)': True, u'contains(awesome)': False, u'contains(keeping)': True, u'contains(names)': True, u'contains(unique)': True, u'contains(manner)': True, u'contains(travel)': True, u'contains(whos)': True, u'contains(clear)': False, u'contains(deals)': True, u'contains(run)': True, u'contains(sitting)': True, u'contains(leaves)': False, u'contains(women)': True, u'contains(type)': True, u'contains(sexy)': True, u'contains(call)': True, u'contains(provided)': False, u'contains(night)': False, u'contains(protect)': False, u'contains(wondered)': False, u'contains(surprised)': True, u'contains(brought)': True, u'contains(boy)': False, u'contains(sell)': True, u'contains(manages)': False, u'contains(across)': True, u'contains(enough)': True, u'contains(great)': True, u'contains(particular)': True, u'contains(several)': True, u'contains(personally)': True, u'contains(realizes)': False, u'contains(time)': True, u'contains(winters)': False, u'contains(turning)': False, u'contains(youve)': True, u'contains(collection)': True, u'contains(army)': True, u'contains(forget)': False, u'contains(story)': True, u'contains(let)': True, u'contains(meeting)': False, u'contains(seat)': False, u'contains(hamilton)': False, u'contains(ive)': True, u'contains(handle)': True, u'contains(future)': True, u'contains(clearly)': True, u'contains(wouldnt)': True, u'contains(fight)': True, u'contains(relationships)': True, u'contains(exactly)': True, u'contains(hate)': True, u'contains(forgotten)': True, u'contains(eating)': True, u'contains(reason)': True, u'contains(away)': True, u'contains(wolf)': False, u'contains(somewhat)': True, u'contains(johnson)': True, u'contains(change)': True, u'contains(long)': True, u'contains(subjects)': False, u'contains(nearly)': True, u'contains(disappoint)': False, u'contains(putting)': True, u'contains(show)': True, u'contains(understood)': True, u'contains(leaving)': True, u'contains(plans)': True, u'contains(negative)': True, u'contains(letter)': True, u'contains(gave)': True, u'contains(extremely)': True, u'contains(knowing)': True, u'contains(series)': True, u'contains(fair)': True, u'contains(whole)': True, u'contains(rules)': True, u'contains(forward)': True, u'contains(curious)': True, u'contains(empire)': False, u'contains(lots)': True, u'contains(however)': True, u'contains(dean)': False, u'contains(told)': True, u'contains(uses)': True, u'contains(regardless)': False, u'contains(found)': True, u'contains(involved)': True, u'contains(fell)': True, u'contains(specific)': True, u'contains(line)': True, u'contains(problems)': True, u'contains(week)': True, u'contains(difficult)': True, u'contains(odd)': True, u'contains(guy)': True, u'contains(everything)': True, u'contains(body)': True, u'contains(american)': True, u'contains(narrative)': True, u'contains(alan)': False, u'contains(woman)': True, u'contains(within)': True, u'contains(perfect)': False, u'contains(concept)': True, u'contains(discover)': False, u'contains(believable)': False, u'contains(merrick)': False, u'contains(sequel)': False, u'contains(town)': True, u'contains(convention)': False, u'contains(realized)': True, u'contains(humorous)': True, u'contains(century)': False, u'contains(notes)': True, u'contains(guessing)': False, u'contains(going)': True, u'contains(killer)': False, u'contains(horror)': True, u'contains(well)': True, u'contains(escape)': False, u'contains(writer)': True, u'contains(poor)': True, u'contains(finding)': True, u'contains(neither)': True, u'contains(logan)': False, u'contains(ability)': True, u'contains(brilliant)': True, u'contains(movies)': False, u'contains(throughout)': True, u'contains(strength)': True, u'contains(continue)': True, u'contains(reloading)': False, u'contains(typical)': False, u'contains(internet)': True, u'contains(price)': True, u'contains(details)': True, u'contains(friendship)': False, u'contains(nick)': True, u'contains(100)': True, u'contains(mystery)': True, u'contains(paper)': True, u'contains(soldiers)': False, u'contains(became)': True, u'contains(anyone)': True, u'contains(arent)': True, u'contains(career)': False, u'contains(wife)': True, u'contains(hard)': True, u'contains(changes)': True, u'contains(low)': True, u'contains(dangerous)': True, u'contains(heat)': False, u'contains(twists)': False, u'contains(telling)': True, u'contains(sets)': True, u'contains(alpha)': True, u'contains(job)': True, u'contains(king)': True, u'contains(usual)': True, u'contains(hoping)': True, u'contains(contains)': False, u'contains(fascinating)': True, u'contains(period)': True, u'contains(hundred)': True, u'contains(gift)': True, u'contains(held)': True, u'contains(version)': True, u'contains(zombie)': True, u'contains(recently)': False, u'contains(might)': True, u'contains(crime)': True, u'contains(actually)': True, u'contains(hope)': True, u'contains(touch)': False, u'contains(quite)': True, u'contains(plan)': False, u'contains(known)': True, u'contains(issues)': True, u'contains(constantly)': True, u'contains(natural)': True, u'contains(extra)': True, u'contains(id)': True, u'contains(wow)': True, u'contains(fresh)': False, u'contains(make)': True, u'contains(hero)': True, u'contains(previous)': True, u'contains(development)': True, u'contains(prayer)': False, u'contains(claire)': False, u'contains(role)': False, u'contains(earth)': True, u'contains(forgiveness)': False, u'contains(size)': True, u'contains(done)': True, u'contains(parents)': False, u'contains(humor)': True, u'contains(heart)': True, u'contains(large)': True, u'contains(explanation)': True, u'contains(danger)': False, u'contains(given)': True, u'contains(words)': True, u'contains(true)': True, u'contains(twice)': True, u'contains(reformed)': True, u'contains(present)': True, u'contains(places)': True, u'contains(exciting)': False, u'contains(news)': True, u'contains(community)': True, u'contains(rest)': True, u'contains(meant)': True, u'contains(aspects)': True, u'contains(essentially)': True, u'contains(name)': True, u'contains(writes)': True, u'contains(fate)': True, u'contains(likely)': True, u'contains(interested)': True, u'contains(particularly)': True, u'contains(key)': True, u'contains(led)': True, u'contains(jones)': False, u'contains(saving)': True, u'contains(speak)': True, u'contains(sweet)': False, u'contains(missing)': True, u'contains(ended)': False, u'contains(center)': True, u'contains(wild)': True, u'contains(taking)': True, u'contains(summer)': True, u'contains(recommend)': True, u'contains(next)': True, u'contains(certain)': False, u'contains(die)': True, u'contains(share)': True, u'contains(meet)': True, u'contains(possible)': True, u'contains(figured)': True, u'contains(marriage)': False, u'contains(demons)': False, u'contains(dog)': False, u'contains(changed)': True, u'contains(good)': True, u'contains(live)': True, u'contains(towards)': False, u'contains(smile)': True, u'contains(cross)': True}, 'negative'), ({u'contains(waste)': True, u'contains(lot)': True, u'contains(black)': True, u'contains(understand)': True, u'contains(cost)': True, u'contains(patterson)': True, u'contains(drug)': True, u'contains(case)': True, u'contains(created)': True, u'contains(needed)': True, u'contains(explains)': True, u'contains(c)': True, u'contains(catches)': True, u'contains(longer)': True, u'contains(dont)': True, u'contains(ready)': True, u'contains(certainly)': True, u'contains(fans)': True, u'contains(introduction)': True, u'contains(seen)': True, u'contains(fan)': True, u'contains(robin)': True, u'contains(moments)': True, u'contains(know)': True, u'contains(deal)': True, u'contains(law)': True, u'contains(started)': True, u'contains(reader)': True, u'contains(brutal)': True, u'contains(tension)': True, u'contains(saying)': True, u'contains(justice)': True, u'contains(focus)': True, u'contains(knew)': True, u'contains(stories)': True, u'contains(fiction)': True, u'contains(drawn)': True, u'contains(policy)': True, u'contains(couldnt)': True, u'contains(variety)': True, u'contains(data)': True, u'contains(attention)': True, u'contains(younger)': True, u'contains(son)': True, u'contains(crazy)': True, u'contains(americans)': True, u'contains(depth)': True, u'contains(respect)': True, u'contains(boring)': True, u'contains(fear)': True, u'contains(watched)': True, u'contains(knows)': True, u'contains(scene)': True, u'contains(three)': True, u'contains(shock)': True, u'contains(reviews)': True, u'contains(amazon)': True, u'contains(talk)': True, u'contains(number)': True, u'contains(followed)': True, u'contains(events)': True, u'contains(disappointing)': True, u'contains(lessons)': True, u'contains(lee)': True, u'contains(etc)': True, u'contains(heavy)': True, u'contains(trip)': True, u'contains(begin)': True, u'contains(covered)': True, u'contains(picked)': True, u'contains(complaints)': True, u'contains(shows)': True, u'contains(despite)': True, u'contains(pages)': True, u'contains(go)': True, u'contains(anna)': True, u'contains(fantasy)': True, u'contains(amount)': True, u'contains(days)': True, u'contains(strange)': True, u'contains(nature)': True, u'contains(overcome)': True, u'contains(sees)': True, u'contains(fictional)': True, u'contains(cat)': True, u'contains(bad)': True, u'contains(wine)': True, u'contains(hear)': True, u'contains(audience)': True, u'contains(literally)': True, u'contains(strong)': True, u'contains(considered)': True, u'contains(adults)': True, u'contains(authors)': True, u'contains(interest)': True, u'contains(answer)': True, u'contains(survival)': True, u'contains(met)': True, u'contains(hopes)': True, u'contains(evil)': True, u'contains(ask)': True, u'contains(reality)': True, u'contains(called)': True, u'contains(history)': True, u'contains(discovered)': True, u'contains(described)': True, u'contains(holds)': True, u'contains(physical)': True, u'contains(helping)': True, u'contains(kids)': True, u'contains(mentioned)': True, u'contains(financial)': True, u'contains(filled)': True, u'contains(unfortunately)': True, u'contains(prose)': True, u'contains(drive)': True, u'contains(bones)': True, u'contains(middle)': True, u'contains(nicely)': True, u'contains(fund)': True, u'contains(jesus)': True, u'contains(guess)': True, u'contains(struggles)': True, u'contains(eclipse)': True, u'contains(wonder)': True, u'contains(michael)': True, u'contains(fun)': True, u'contains(simple)': True, u'contains(trials)': True, u'contains(think)': True, u'contains(used)': True, u'contains(eyes)': True, u'contains(connected)': True, u'contains(born)': True, u'contains(rebecca)': True, u'contains(thats)': True, u'contains(court)': True, u'contains(follow)': True, u'contains(state)': True, u'contains(end)': True, u'contains(actions)': True, u'contains(heard)': True, u'contains(ideas)': True, u'contains(opinion)': True, u'contains(loves)': True, u'contains(childrens)': True, u'contains(best)': True, u'contains(relevant)': True, u'contains(readers)': True, u'contains(predictable)': True, u'contains(quality)': True, u'contains(action)': True, u'contains(companion)': True, u'contains(another)': True, u'contains(spiritual)': True, u'contains(healing)': True, u'contains(passion)': True, u'contains(professional)': True, u'contains(ya)': True, u'contains(theme)': True, u'contains(stop)': True, u'contains(include)': True, u'contains(rather)': True, u'contains(carry)': True, u'contains(ways)': True, u'contains(element)': True, u'contains(alive)': True, u'contains(pulled)': True, u'contains(laugh)': True, u'contains(program)': True, u'contains(turns)': True, u'contains(master)': True, u'contains(word)': True, u'contains(includes)': True, u'contains(path)': True, u'contains(recipe)': True, u'contains(sure)': True, u'contains(whatever)': True, u'contains(times)': True, u'contains(incredible)': True, u'contains(inside)': True, u'contains(captivated)': True, u'contains(paranormal)': True, u'contains(plot)': True, u'contains(hearts)': True, u'contains(speaking)': True, u'contains(easily)': True, u'contains(already)': True, u'contains(setting)': True, u'contains(really)': True, u'contains(tried)': True, u'contains(hours)': True, u'contains(real)': True, u'contains(create)': True, u'contains(religion)': True, u'contains(slowly)': True, u'contains(offers)': True, u'contains(age)': True, u'contains(want)': True, u'contains(huge)': True, u'contains(close)': True, u'contains(james)': True, u'contains(nation)': True, u'contains(6)': True, u'contains(topic)': True, u'contains(liked)': True, u'contains(wasnt)': True, u'contains(shes)': True, u'contains(violence)': True, u'contains(bought)': True, u'contains(often)': True, u'contains(lead)': True, u'contains(place)': True, u'contains(character)': True, u'contains(made)': True, u'contains(theories)': True, u'contains(kind)': True, u'contains(worst)': True, u'contains(killing)': True, u'contains(de)': True, u'contains(ride)': True, u'contains(process)': True, u'contains(suddenly)': True, u'contains(search)': True, u'contains(america)': True, u'contains(brother)': True, u'contains(goes)': True, u'contains(becoming)': True, u'contains(4)': True, u'contains(exceptional)': True, u'contains(business)': True, u'contains(describes)': True, u'contains(pressure)': True, u'contains(material)': True, u'contains(came)': True, u'contains(war)': True, u'contains(style)': True, u'contains(results)': True, u'contains(issue)': True, u'contains(vampire)': True, u'contains(may)': True, u'contains(leave)': True, u'contains(trilogy)': True, u'contains(church)': True, u'contains(loved)': True, u'contains(based)': True, u'contains(lover)': True, u'contains(appreciate)': True, u'contains(stage)': True, u'contains(wrong)': True, u'contains(useful)': True, u'contains(school)': True, u'contains(food)': True, u'contains(main)': True, u'contains(opportunity)': True, u'contains(boygirls)': True, u'contains(genre)': True, u'contains(means)': True, u'contains(serve)': True, u'contains(cut)': True, u'contains(powerful)': True, u'contains(pandas)': False, u'contains(trying)': True, u'contains(answers)': True, u'contains(compelling)': True, u'contains(appear)': True, u'contains(felt)': True, u'contains(brings)': True, u'contains(group)': True, u'contains(guide)': True, u'contains(brad)': True, u'contains(journey)': True, u'contains(level)': True, u'contains(finished)': True, u'contains(patients)': True, u'contains(feel)': True, u'contains(said)': True, u'contains(older)': True, u'contains(behavior)': True, u'contains(need)': True, u'contains(worked)': True, u'contains(move)': True, u'contains(provides)': True, u'contains(walk)': True, u'contains(frog)': True, u'contains(greek)': True, u'contains(laughed)': True, u'contains(maybe)': True, u'contains(dialogue)': True, u'contains(reasons)': True, u'contains(killed)': True, u'contains(rarely)': True, u'contains(included)': True, u'contains(makes)': True, u'contains(oh)': True, u'contains(south)': True, u'contains(attitude)': True, u'contains(peter)': True, u'contains(red)': True, u'contains(fears)': True, u'contains(salvation)': True, u'contains(couple)': True, u'contains(watching)': True, u'contains(mary)': True, u'contains(rich)': True, u'contains(emotions)': True, u'contains(clara)': True, u'contains(theology)': True, u'contains(study)': True, u'contains(ones)': True, u'contains(diet)': True, u'contains(wars)': True, u'contains(piece)': True, u'contains(music)': True, u'contains(pull)': True, u'contains(library)': True, u'contains(though)': True, u'contains(thinks)': True, u'contains(seem)': True, u'contains(steps)': True, u'contains(pick)': True, u'contains(youll)': True, u'contains(children)': True, u'contains(better)': True, u'contains(since)': True, u'contains(guys)': True, u'contains(peculiar)': True, u'contains(informative)': True, u'contains(intriguing)': True, u'contains(cause)': True, u'contains(cover)': True, u'contains(high)': True, u'contains(needs)': True, u'contains(city)': True, u'contains(different)': True, u'contains(provide)': True, u'contains(college)': True, u'contains(voice)': True, u'contains(military)': True, u'contains(edge)': True, u'contains(reading)': True, u'contains(accurate)': True, u'contains(draw)': True, u'contains(fire)': True, u'contains(child)': True, u'contains(husband)': True, u'contains(customer)': True, u'contains(difference)': True, u'contains(apart)': True, u'contains(grand)': True, u'contains(covers)': True, u'contains(kid)': True, u'contains(short)': True, u'contains(focuses)': True, u'contains(storm)': True, u'contains(personality)': True, u'contains(little)': True, u'contains(happening)': True, u'contains(message)': True, u'contains(tragic)': True, u'contains(introduced)': True, u'contains(president)': True, u'contains(try)': True, u'contains(detailed)': True, u'contains(area)': True, u'contains(reminded)': True, u'contains(author)': True, u'contains(questions)': True, u'contains(familiar)': True, u'contains(still)': True, u'contains(text)': True, u'contains(emma)': True, u'contains(tragedy)': True, u'contains(conclusion)': True, u'contains(treatment)': True, u'contains(life)': True, u'contains(home)': True, u'contains(highly)': True, u'contains(party)': True, u'contains(ray)': True, u'contains(old)': True, u'contains(necessary)': True, u'contains(wrote)': True, u'contains(health)': True, u'contains(total)': True, u'contains(unless)': True, u'contains(kyles)': True, u'contains(mothers)': True, u'contains(ends)': True, u'contains(yes)': True, u'contains(others)': True, u'contains(training)': True, u'contains(jack)': True, u'contains(beginning)': True, u'contains(oils)': True, u'contains(least)': True, u'contains(attempt)': True, u'contains(looking)': True, u'contains(saw)': True, u'contains(broken)': True, u'contains(immediately)': True, u'contains(chapters)': True, u'contains(imagination)': True, u'contains(language)': True, u'contains(write)': True, u'contains(gripping)': True, u'contains(talking)': True, u'contains(ann)': True, u'contains(detail)': True, u'contains(cole)': True, u'contains(beyond)': True, u'contains(open)': True, u'contains(second)': True, u'contains(mysteries)': True, u'contains(hydrogen)': True, u'contains(account)': True, u'contains(turned)': True, u'contains(la)': True, u'contains(use)': True, u'contains(control)': True, u'contains(joe)': True, u'contains(charming)': True, u'contains(wisdom)': True, u'contains(wanted)': True, u'contains(childhood)': True, u'contains(house)': True, u'contains(christian)': True, u'contains(began)': True, u'contains(taste)': True, u'contains(games)': True, u'contains(exchange)': True, u'contains(novels)': True, u'contains(lady)': True, u'contains(lovely)': True, u'contains(reads)': True, u'contains(hit)': True, u'contains(adventures)': True, u'contains(start)': True, u'contains(recent)': True, u'contains(successful)': True, u'contains(vampires)': True, u'contains(jacob)': True, u'contains(subject)': True, u'contains(experiences)': True, u'contains(indeed)': True, u'contains(traditional)': True, u'contains(like)': True, u'contains(romantic)': True, u'contains(stay)': True, u'contains(tim)': True, u'contains(freedom)': True, u'contains(bit)': True, u'contains(leads)': True, u'contains(god)': True, u'contains(powers)': True, u'contains(market)': True, u'contains(except)': True, u'contains(take)': True, u'contains(cool)': True, u'contains(note)': True, u'contains(insightful)': True, u'contains(bring)': True, u'contains(teens)': True, u'contains(river)': True, u'contains(thank)': True, u'contains(carries)': True, u'contains(visit)': True, u'contains(healthy)': True, u'contains(sex)': True, u'contains(plenty)': True, u'contains(usually)': True, u'contains(grown)': True, u'contains(keeps)': True, u'contains(isnt)': True, u'contains(complete)': True, u'contains(copy)': True, u'contains(initially)': True, u'contains(put)': True, u'contains(must)': True, u'contains(general)': True, u'contains(dark)': True, u'contains(minor)': True, u'contains(believe)': True, u'contains(wondering)': True, u'contains(whose)': True, u'contains(bar)': True, u'contains(book)': True, u'contains(alex)': True, u'contains(premise)': True, u'contains(later)': True, u'contains(missed)': True, u'contains(something)': True, u'contains(economy)': True, u'contains(essential)': True, u'contains(among)': True, u'contains(view)': True, u'contains(wants)': True, u'contains(emotional)': True, u'contains(points)': True, u'contains(cold)': True, u'contains(teacher)': True, u'contains(information)': True, u'contains(forced)': True, u'contains(become)': True, u'contains(especially)': True, u'contains(shares)': True, u'contains(heal)': True, u'contains(rose)': True, u'contains(front)': True, u'contains(along)': True, u'contains(guilt)': True, u'contains(medical)': True, u'contains(fall)': True, u'contains(latest)': True, u'contains(purchase)': True, u'contains(engaging)': True, u'contains(afraid)': True, u'contains(five)': True, u'contains(classic)': True, u'contains(girls)': True, u'contains(weight)': True, u'contains(human)': True, u'contains(former)': True, u'contains(civil)': True, u'contains(example)': True, u'contains(insight)': True, u'contains(eye)': True, u'contains(totally)': True, u'contains(stars)': True, u'contains(lost)': True, u'contains(arrives)': True, u'contains(15)': True, u'contains(big)': True, u'contains(system)': True, u'contains(prove)': True, u'contains(stuck)': True, u'contains(married)': True, u'contains(media)': True, u'contains(thing)': True, u'contains(spend)': True, u'contains(british)': True, u'contains(feeling)': True, u'contains(reread)': True, u'contains(daughter)': True, u'contains(team)': True, u'contains(final)': True, u'contains(recommended)': True, u'contains(task)': True, u'contains(step)': True, u'contains(offering)': True, u'contains(amanda)': True, u'contains(develop)': True, u'contains(helped)': True, u'contains(sorry)': True, u'contains(looks)': True, u'contains(ancient)': True, u'contains(fact)': True, u'contains(ten)': True, u'contains(survive)': True, u'contains(class)': True, u'contains(return)': True, u'contains(amazing)': True, u'contains(doubt)': True, u'contains(memoir)': True, u'contains(modern)': True, u'contains(storyline)': True, u'contains(reference)': True, u'contains(witty)': True, u'contains(us)': True, u'contains(chance)': True, u'contains(living)': True, u'contains(hooked)': True, u'contains(learn)': True, u'contains(characters)': True, u'contains(method)': True, u'contains(sent)': True, u'contains(follows)': True, u'contains(balance)': True, u'contains(choose)': True, u'contains(film)': True, u'contains(ending)': True, u'contains(probably)': True, u'contains(academic)': True, u'contains(complex)': True, u'contains(blind)': True, u'contains(learning)': True, u'contains(ok)': True, u'contains(course)': True, u'contains(hunting)': True, u'contains(kill)': True, u'contains(soul)': True, u'contains(available)': True, u'contains(wanting)': True, u'contains(friend)': True, u'contains(small)': True, u'contains(keep)': True, u'contains(mean)': True, u'contains(writers)': True, u'contains(far)': True, u'contains(passed)': True, u'contains(trouble)': True, u'contains(police)': True, u'contains(focused)': True, u'contains(got)': True, u'contains(sexual)': True, u'contains(list)': True, u'contains(earlier)': True, u'contains(recipes)': True, u'contains(political)': True, u'contains(nicholas)': True, u'contains(regret)': True, u'contains(stuff)': True, u'contains(gotten)': True, u'contains(12)': True, u'contains(revolution)': True, u'contains(puts)': True, u'contains(expected)': True, u'contains(wont)': True, u'contains(stand)': True, u'contains(face)': True, u'contains(quick)': True, u'contains(dead)': True, u'contains(address)': True, u'contains(beautiful)': True, u'contains(gifts)': True, u'contains(brain)': True, u'contains(tells)': True, u'contains(act)': True, u'contains(paced)': True, u'contains(death)': True, u'contains(lines)': True, u'contains(finally)': True, u'contains(charles)': True, u'contains(rating)': True, u'contains(remember)': True, u'contains(enjoyed)': True, u'contains(western)': True, u'contains(literature)': True, u'contains(root)': True, u'contains(around)': True, u'contains(club)': True, u'contains(slow)': True, u'contains(fast)': True, u'contains(following)': True, u'contains(right)': True, u'contains(north)': True, u'contains(purchased)': True, u'contains(learned)': True, u'contains(look)': True, u'contains(happened)': True, u'contains(description)': True, u'contains(white)': True, u'contains(mr)': True, u'contains(section)': True, u'contains(serious)': True, u'contains(historical)': True, u'contains(skills)': True, u'contains(kept)': True, u'contains(opinions)': True, u'contains(point)': True, u'contains(fighting)': True, u'contains(popular)': True, u'contains(position)': True, u'contains(nice)': True, u'contains(someone)': True, u'contains(st)': True, u'contains(society)': True, u'contains(everyone)': True, u'contains(havent)': True, u'contains(seemed)': True, u'contains(yet)': True, u'contains(land)': True, u'contains(ill)': True, u'contains(lives)': True, u'contains(showing)': True, u'contains(island)': True, u'contains(girl)': True, u'contains(free)': True, u'contains(reviewed)': True, u'contains(edition)': True, u'contains(find)': True, u'contains(thinking)': True, u'contains(light)': True, u'contains(relationship)': True, u'contains(publisher)': True, u'contains(mark)': True, u'contains(works)': True, u'contains(excited)': True, u'contains(major)': True, u'contains(doesnt)': True, u'contains(disney)': True, u'contains(drama)': True, u'contains(extreme)': True, u'contains(father)': True, u'contains(excellent)': True, u'contains(famous)': True, u'contains(alone)': True, u'contains(?)': True, u'contains(anything)': True, u'contains(emily)': True, u'contains(kyle)': True, u'contains(happens)': True, u'contains(almost)': True, u'contains(top)': True, u'contains(theres)': True, u'contains(relatively)': True, u'contains(building)': True, u'contains(criticism)': True, u'contains(5)': True, u'contains(photos)': True, u'contains(problem)': True, u'contains(consider)': True, u'contains(absolutely)': True, u'contains(fully)': True, u'contains(lesson)': True, u'contains(disease)': True, u'contains(mom)': True, u'contains(spent)': True, u'contains(dr)': True, u'contains(together)': True, u'contains(purpose)': True, u'contains(although)': True, u'contains(margaret)': True, u'contains(men)': True, u'contains(christmas)': True, u'contains(leader)': True, u'contains(enjoyable)': True, u'contains(seeing)': True, u'contains(elements)': True, u'contains(gets)': True, u'contains(break)': True, u'contains(explain)': True, u'contains(david)': True, u'contains(man)': True, u'contains(truth)': True, u'contains(via)': True, u'contains(year)': True, u'contains(finish)': True, u'contains(happen)': True, u'contains(texas)': True, u'contains(forms)': True, u'contains(half)': True, u'contains(forever)': True, u'contains(sort)': True, u'contains(wait)': True, u'contains(developed)': True, u'contains(offer)': True, u'contains(title)': True, u'contains(secrets)': True, u'contains(ultimately)': True, u'contains(side)': True, u'contains(says)': True, u'contains(beauty)': True, u'contains(hes)': True, u'contains(boys)': True, u'contains(ms)': True, u'contains(game)': True, u'contains(failed)': True, u'contains(facts)': True, u'contains(cook)': True, u'contains(able)': True, u'contains(quickly)': True, u'contains(friends)': True, u'contains(come)': True, u'contains(part)': True, u'contains(states)': True, u'contains(desperate)': True, u'contains(york)': True, u'contains(instead)': True, u'contains(feelings)': True, u'contains(beautifully)': True, u'contains(madison)': True, u'contains(humans)': True, u'contains(pace)': True, u'contains(fathers)': True, u'contains(soon)': True, u'contains(coming)': True, u'contains(effects)': True, u'contains(harry)': True, u'contains(topics)': True, u'contains(elizabeth)': True, u'contains(male)': True, u'contains(lived)': True, u'contains(less)': True, u'contains(fine)': True, u'contains(definitely)': True, u'contains(moment)': True, u'contains(ago)': True, u'contains(person)': True, u'contains(similar)': True, u'contains(using)': True, u'contains(decided)': True, u'contains(late)': True, u'contains(first)': True, u'contains(impossible)': True, u'contains(tell)': True, u'contains(christ)': True, u'contains(readable)': True, u'contains(minute)': True, u'contains(room)': True, u'contains(balanced)': True, u'contains(fantastic)': True, u'contains(government)': True, u'contains(art)': True, u'contains(current)': True, u'contains(realistic)': True, u'contains(parent)': True, u'contains(love)': True, u'contains(completely)': True, u'contains(also)': True, u'contains(meets)': True, u'contains(graphic)': True, u'contains(left)': True, u'contains(teachers)': True, u'contains(success)': True, u'contains(moves)': True, u'contains(approach)': True, u'contains(honest)': True, u'contains(connection)': True, u'contains(fifty)': True, u'contains(important)': True, u'contains(scientific)': True, u'contains(would)': True, u'contains(lack)': True, u'contains(beliefs)': True, u'contains(dreams)': True, u'contains(hilarious)': True, u'contains(daily)': True, u'contains(lifestyle)': True, u'contains(young)': True, u'contains(without)': True, u'contains(including)': True, u'contains(grew)': True, u'contains(web)': True, u'contains(expect)': True, u'contains(battle)': True, u'contains(toward)': True, u'contains(working)': True, u'contains(gabriel)': True, u'contains(expressed)': True, u'contains(build)': True, u'contains(john)': True, u'contains(grow)': True, u'contains(descriptions)': True, u'contains(various)': True, u'contains(practical)': True, u'contains(entertaining)': True, u'contains(foods)': True, u'contains(continues)': True, u'contains(nate)': True, u'contains(whats)': True, u'contains(violent)': True, u'contains(background)': True, u'contains(21)': True, u'contains(last)': True, u'contains(stone)': True, u'contains(jokes)': True, u'contains(aside)': True, u'contains(choice)': True, u'contains(willing)': True, u'contains(agree)': True, u'contains(gods)': True, u'contains(rare)': True, u'contains(could)': True, u'contains(gray)': True, u'contains(pictures)': True, u'contains(required)': True, u'contains(power)': True, u'contains(full)': True, u'contains(even)': True, u'contains(field)': True, u'contains(thriller)': True, u'contains(theyre)': True, u'contains(giving)': True, u'contains(day)': True, u'contains(computer)': True, u'contains(comes)': True, u'contains(one)': True, u'contains(sad)': True, u'contains(culture)': True, u'contains(feels)': True, u'contains(female)': True, u'contains(becomes)': True, u'contains(buy)': True, u'contains(form)': True, u'contains(robert)': True, u'contains(matter)': True, u'contains(set)': True, u'contains(tale)': True, u'contains(apparently)': True, u'contains(scenes)': True, u'contains(product)': True, u'contains(appeal)': True, u'contains(running)': True, u'contains(taken)': True, u'contains(courage)': True, u'contains(struggle)': True, u'contains(took)': True, u'contains(wonderful)': True, u'contains(tales)': True, u'contains(public)': True, u'contains(cases)': True, u'contains(order)': True, u'contains(addition)': True, u'contains(thought)': True, u'contains(whether)': True, u'contains(mostly)': True, u'contains(trust)': True, u'contains(fairly)': True, u'contains(sound)': True, u'contains(please)': True, u'contains(deeper)': True, u'contains(today)': True, u'contains(science)': True, u'contains(sense)': True, u'contains(gone)': True, u'contains(lord)': True, u'contains(perfectly)': True, u'contains(admit)': True, u'contains(upon)': True, u'contains(mention)': True, u'contains(miss)': True, u'contains(result)': True, u'contains(thoroughly)': True, u'contains(getting)': True, u'contains(back)': True, u'contains(references)': True, u'contains(country)': True, u'contains(enjoy)': True, u'contains(car)': True, u'contains(experience)': True, u'contains(behind)': True, u'contains(due)': True, u'contains(uncle)': True, u'contains(add)': True, u'contains(brothers)': True, u'contains(local)': True, u'contains(universe)': True, u'contains(terms)': True, u'contains(family)': True, u'contains(things)': True, u'contains(ordered)': True, u'contains(christians)': True, u'contains(pieces)': True, u'contains(plus)': True, u'contains(packed)': True, u'contains(content)': True, u'contains(street)': True, u'contains(picture)': True, u'contains(new)': True, u'contains(programs)': True, u'contains(hardly)': True, u'contains(near)': True, u'contains(waiting)': True, u'contains(finds)': True, u'contains(3)': True, u'contains(mistakes)': True, u'contains(charlotte)': True, u'contains(!)': True, u'contains(experienced)': True, u'contains(secret)': True, u'contains(20)': True, u'contains(pay)': True, u'contains(star)': True, u'contains(code)': True, u'contains(entire)': True, u'contains(watch)': True, u'contains(adult)': True, u'contains(project)': True, u'contains(third)': True, u'contains(disappointed)': True, u'contains(race)': True, u'contains(see)': True, u'contains(making)': True, u'contains(simply)': True, u'contains(responsible)': True, u'contains(adventure)': True, u'contains(kindle)': True, u'contains(hot)': True, u'contains(funny)': True, u'contains(overall)': True, u'contains(people)': True, u'contains(lets)': True, u'contains(perhaps)': True, u'contains(greatest)': True, u'contains(cant)': True, u'contains(page)': True, u'contains(publishing)': True, u'contains(research)': True, u'contains(personal)': True, u'contains(deans)': True, u'contains(advice)': True, u'contains(work)': True, u'contains(jonathan)': True, u'contains(basic)': True, u'contains(im)': True, u'contains(dealing)': True, u'contains(suspect)': True, u'contains(sometimes)': True, u'contains(parts)': True, u'contains(original)': True, u'contains(positive)': True, u'contains(question)': True, u'contains(else)': True, u'contains(every)': True, u'contains(eat)': True, u'contains(football)': True, u'contains(mountain)': True, u'contains(errors)': True, u'contains(perspective)': True, u'contains(super)': True, u'contains(much)': True, u'contains(girlfriend)': True, u'contains(eventually)': True, u'contains(gives)': True, u'contains(youre)': True, u'contains(say)': True, u'contains(thoughts)': True, u'contains(read)': True, u'contains(bible)': True, u'contains(forces)': True, u'contains(mine)': True, u'contains(smart)': True, u'contains(world)': True, u'contains(possibly)': True, u'contains(two)': True, u'contains(england)': True, u'contains(mother)': True, u'contains(television)': True, u'contains(falls)': True, u'contains(helpful)': True, u'contains(give)': True, u'contains(installment)': True, u'contains(murder)': True, u'contains(revealed)': True, u'contains(takes)': True, u'contains(loose)': True, u'contains(single)': True, u'contains(range)': True, u'contains(money)': True, u'contains(years)': True, u'contains(deep)': True, u'contains(happy)': True, u'contains(starts)': True, u'contains(easy)': True, u'contains(fit)': True, u'contains(benefit)': True, u'contains(four)': True, u'contains(get)': True, u'contains(surprise)': True, u'contains(always)': True, u'contains(opposite)': True, u'contains(care)': True, u'contains(past)': True, u'contains(regarding)': True, u'contains(pretty)': True, u'contains(books)': True, u'contains(teaching)': True, u'contains(glad)': True, u'contains(2)': True, u'contains(knowledge)': True, u'contains(save)': True, u'contains(believed)': True, u'contains(built)': True, u'contains(design)': True, u'contains(mysterious)': True, u'contains(effect)': True, u'contains(gabe)': True, u'contains(manage)': True, u'contains(interesting)': True, u'contains(dice)': True, u'contains(intelligent)': True, u'contains(delightful)': True, u'contains(attraction)': True, u'contains(caught)': True, u'contains(named)': True, u'contains(30)': True, u'contains(received)': True, u'contains(seems)': True, u'contains(deeply)': True, u'contains(either)': True, u'contains(understanding)': True, u'contains(table)': True, u'contains(written)': True, u'contains(romance)': True, u'contains(play)': True, u'contains(volume)': True, u'contains(social)': True, u'contains(starting)': True, u'contains(situation)': True, u'contains(tries)': True, u'contains(families)': True, u'contains(image)': True, u'contains(connect)': True, u'contains(sarah)': True, u'contains(favorite)': True, u'contains(thanks)': True, u'contains(sections)': True, u'contains(otherwise)': True, u'contains(sister)': True, u'contains(early)': True, u'contains(went)': True, u'contains(handsome)': True, u'contains(moral)': True, u'contains(flawed)': True, u'contains(wish)': True, u'contains(harris)': True, u'contains(movie)': True, u'contains(begins)': True, u'contains(moving)': True, u'contains(support)': True, u'contains(examples)': True, u'contains(suspense)': True, u'contains(wide)': True, u'contains(twist)': True, u'contains(english)': True, u'contains(effort)': True, u'contains(realize)': True, u'contains(conflict)': True, u'contains(mind)': True, u'contains(heroine)': True, u'contains(ever)': True, u'contains(desire)': True, u'contains(never)': True, u'contains(chris)': True, u'contains(expecting)': True, u'contains(tears)': True, u'contains(seriously)': True, u'contains(idea)': True, u'contains(fae)': True, u'contains(didnt)': True, u'contains(way)': True, u'contains(greater)': True, u'contains(review)': True, u'contains(turn)': True, u'contains(committed)': True, u'contains(special)': True, u'contains(chapter)': True, u'contains(politics)': True, u'contains(faith)': True, u'contains(help)': True, u'contains(many)': True, u'contains(truly)': True, u'contains(shot)': True, u'contains(thrown)': True, u'contains(nothing)': True, u'contains(practice)': True, u'contains(erotic)': True, u'contains(outstanding)': True, u'contains(grace)': True, u'contains(novel)': True, u'contains(writing)': True, u'contains(cute)': True, u'contains(obviously)': True, u'contains(figure)': True, u'contains(obvious)': True, u'contains(office)': True, u'contains(hand)': True, u'contains(adams)': True, u'contains(geisler)': False, u'contains(value)': True, u'contains(imagine)': True, u'contains(website)': True, u'contains(head)': True, u'contains(1)': True, u'contains(relate)': True, u'contains(worth)': True, u'contains(months)': True, u'contains(helps)': True, u'contains(company)': True, u'contains(hurt)': True, u'contains(creative)': True, u'contains(moved)': True, u'contains(magic)': True, u'contains(awesome)': True, u'contains(keeping)': True, u'contains(names)': True, u'contains(unique)': True, u'contains(manner)': True, u'contains(travel)': True, u'contains(whos)': True, u'contains(clear)': True, u'contains(deals)': True, u'contains(run)': True, u'contains(sitting)': True, u'contains(leaves)': True, u'contains(women)': True, u'contains(type)': True, u'contains(sexy)': True, u'contains(call)': True, u'contains(provided)': True, u'contains(night)': True, u'contains(protect)': True, u'contains(wondered)': True, u'contains(surprised)': True, u'contains(brought)': True, u'contains(boy)': True, u'contains(sell)': True, u'contains(manages)': True, u'contains(across)': True, u'contains(enough)': True, u'contains(great)': True, u'contains(particular)': True, u'contains(several)': True, u'contains(personally)': True, u'contains(realizes)': True, u'contains(time)': True, u'contains(winters)': True, u'contains(turning)': True, u'contains(youve)': True, u'contains(collection)': True, u'contains(army)': True, u'contains(forget)': True, u'contains(story)': True, u'contains(let)': True, u'contains(meeting)': True, u'contains(seat)': True, u'contains(hamilton)': True, u'contains(ive)': True, u'contains(handle)': True, u'contains(future)': True, u'contains(clearly)': True, u'contains(wouldnt)': True, u'contains(fight)': True, u'contains(relationships)': True, u'contains(exactly)': True, u'contains(hate)': True, u'contains(forgotten)': True, u'contains(eating)': True, u'contains(reason)': True, u'contains(away)': True, u'contains(wolf)': True, u'contains(somewhat)': True, u'contains(johnson)': True, u'contains(change)': True, u'contains(long)': True, u'contains(subjects)': True, u'contains(nearly)': True, u'contains(disappoint)': True, u'contains(putting)': True, u'contains(show)': True, u'contains(understood)': True, u'contains(leaving)': True, u'contains(plans)': True, u'contains(negative)': True, u'contains(letter)': True, u'contains(gave)': True, u'contains(extremely)': True, u'contains(knowing)': True, u'contains(series)': True, u'contains(fair)': True, u'contains(whole)': True, u'contains(rules)': True, u'contains(forward)': True, u'contains(curious)': True, u'contains(empire)': True, u'contains(lots)': True, u'contains(however)': True, u'contains(dean)': True, u'contains(told)': True, u'contains(uses)': True, u'contains(regardless)': True, u'contains(found)': True, u'contains(involved)': True, u'contains(fell)': True, u'contains(specific)': True, u'contains(line)': True, u'contains(problems)': True, u'contains(week)': True, u'contains(difficult)': True, u'contains(odd)': True, u'contains(guy)': True, u'contains(everything)': True, u'contains(body)': True, u'contains(american)': True, u'contains(narrative)': True, u'contains(alan)': True, u'contains(woman)': True, u'contains(within)': True, u'contains(perfect)': True, u'contains(concept)': True, u'contains(discover)': True, u'contains(believable)': True, u'contains(merrick)': True, u'contains(sequel)': True, u'contains(town)': True, u'contains(convention)': True, u'contains(realized)': True, u'contains(humorous)': True, u'contains(century)': True, u'contains(notes)': True, u'contains(guessing)': True, u'contains(going)': True, u'contains(killer)': True, u'contains(horror)': True, u'contains(well)': True, u'contains(escape)': True, u'contains(writer)': True, u'contains(poor)': True, u'contains(finding)': True, u'contains(neither)': True, u'contains(logan)': True, u'contains(ability)': True, u'contains(brilliant)': True, u'contains(movies)': True, u'contains(throughout)': True, u'contains(strength)': True, u'contains(continue)': True, u'contains(reloading)': True, u'contains(typical)': True, u'contains(internet)': True, u'contains(price)': True, u'contains(details)': True, u'contains(friendship)': True, u'contains(nick)': True, u'contains(100)': True, u'contains(mystery)': True, u'contains(paper)': True, u'contains(soldiers)': True, u'contains(became)': True, u'contains(anyone)': True, u'contains(arent)': True, u'contains(career)': True, u'contains(wife)': True, u'contains(hard)': True, u'contains(changes)': True, u'contains(low)': True, u'contains(dangerous)': True, u'contains(heat)': True, u'contains(twists)': True, u'contains(telling)': True, u'contains(sets)': True, u'contains(alpha)': True, u'contains(job)': True, u'contains(king)': True, u'contains(usual)': True, u'contains(hoping)': True, u'contains(contains)': True, u'contains(fascinating)': True, u'contains(period)': True, u'contains(hundred)': True, u'contains(gift)': True, u'contains(held)': True, u'contains(version)': True, u'contains(zombie)': True, u'contains(recently)': True, u'contains(might)': True, u'contains(crime)': True, u'contains(actually)': True, u'contains(hope)': True, u'contains(touch)': True, u'contains(quite)': True, u'contains(plan)': True, u'contains(known)': True, u'contains(issues)': True, u'contains(constantly)': True, u'contains(natural)': True, u'contains(extra)': True, u'contains(id)': True, u'contains(wow)': True, u'contains(fresh)': True, u'contains(make)': True, u'contains(hero)': True, u'contains(previous)': True, u'contains(development)': True, u'contains(prayer)': True, u'contains(claire)': True, u'contains(role)': True, u'contains(earth)': True, u'contains(forgiveness)': True, u'contains(size)': True, u'contains(done)': True, u'contains(parents)': True, u'contains(humor)': True, u'contains(heart)': True, u'contains(large)': True, u'contains(explanation)': True, u'contains(danger)': True, u'contains(given)': True, u'contains(words)': True, u'contains(true)': True, u'contains(twice)': True, u'contains(reformed)': True, u'contains(present)': True, u'contains(places)': True, u'contains(exciting)': True, u'contains(news)': True, u'contains(community)': True, u'contains(rest)': True, u'contains(meant)': True, u'contains(aspects)': True, u'contains(essentially)': True, u'contains(name)': True, u'contains(writes)': True, u'contains(fate)': True, u'contains(likely)': True, u'contains(interested)': True, u'contains(particularly)': True, u'contains(key)': True, u'contains(led)': True, u'contains(jones)': True, u'contains(saving)': True, u'contains(speak)': True, u'contains(sweet)': True, u'contains(missing)': True, u'contains(ended)': True, u'contains(center)': True, u'contains(wild)': True, u'contains(taking)': True, u'contains(summer)': True, u'contains(recommend)': True, u'contains(next)': True, u'contains(certain)': True, u'contains(die)': True, u'contains(share)': True, u'contains(meet)': True, u'contains(possible)': True, u'contains(figured)': True, u'contains(marriage)': True, u'contains(demons)': True, u'contains(dog)': True, u'contains(changed)': True, u'contains(good)': True, u'contains(live)': True, u'contains(towards)': True, u'contains(smile)': True, u'contains(cross)': True}, 'positive')]"
      ]
     },
     "execution_count": 377,
     "metadata": {},
     "output_type": "execute_result"
    }
   ],
   "source": [
    "training_set"
   ]
  },
  {
   "cell_type": "code",
   "execution_count": 385,
   "metadata": {
    "collapsed": false
   },
   "outputs": [
    {
     "name": "stdout",
     "output_type": "stream",
     "text": [
      "Output Sentiment: negative\n"
     ]
    },
    {
     "data": {
      "text/plain": [
       "['boring', 'book', '?']"
      ]
     },
     "execution_count": 385,
     "metadata": {},
     "output_type": "execute_result"
    }
   ],
   "source": [
    "# Train the classifier \n",
    "NBClassifier = nltk.NaiveBayesClassifier.train(training_set)\n",
    "\n",
    "\n",
    "# Test the classifier\n",
    "testSentence = \"boring book?\" # treat as pd.Series\n",
    "testSentence = review2words(pd.Series([testSentence]))\n",
    "# count frequency of each word\n",
    "testSentence_dic = []\n",
    "for wordList in testSentence:\n",
    "    testSentence_dic += wordList\n",
    "\n",
    "print \"Output Sentiment:\", NBClassifier.classify(extract_features(testSentence_dic))\n",
    "testSentence_dic"
   ]
  },
  {
   "cell_type": "code",
   "execution_count": 379,
   "metadata": {
    "collapsed": false
   },
   "outputs": [
    {
     "name": "stdout",
     "output_type": "stream",
     "text": [
      "Most Informative Features\n",
      "        contains(boring) = True           negati : positi =      1.0 : 1.0\n",
      "         contains(using) = True           negati : positi =      1.0 : 1.0\n",
      "        contains(market) = True           negati : positi =      1.0 : 1.0\n",
      "        contains(thrown) = True           negati : positi =      1.0 : 1.0\n",
      "          contains(much) = True           negati : positi =      1.0 : 1.0\n",
      "         contains(major) = True           negati : positi =      1.0 : 1.0\n",
      "    contains(characters) = True           negati : positi =      1.0 : 1.0\n",
      "        contains(thanks) = True           negati : positi =      1.0 : 1.0\n",
      "         contains(could) = True           negati : positi =      1.0 : 1.0\n",
      "   contains(traditional) = True           negati : positi =      1.0 : 1.0\n",
      "      contains(behavior) = True           negati : positi =      1.0 : 1.0\n",
      "None\n"
     ]
    }
   ],
   "source": [
    "# print informative features about the classifier\n",
    "print NBClassifier.show_most_informative_features(20)"
   ]
  },
  {
   "cell_type": "code",
   "execution_count": 386,
   "metadata": {
    "collapsed": false
   },
   "outputs": [
    {
     "ename": "NameError",
     "evalue": "name 'test_set' is not defined",
     "output_type": "error",
     "traceback": [
      "\u001b[0;31m---------------------------------------------------------------------------\u001b[0m",
      "\u001b[0;31mNameError\u001b[0m                                 Traceback (most recent call last)",
      "\u001b[0;32m<ipython-input-386-bca9c3d2ff44>\u001b[0m in \u001b[0;36m<module>\u001b[0;34m()\u001b[0m\n\u001b[0;32m----> 1\u001b[0;31m \u001b[0;32mprint\u001b[0m\u001b[0;34m(\u001b[0m\u001b[0mnltk\u001b[0m\u001b[0;34m.\u001b[0m\u001b[0mclassify\u001b[0m\u001b[0;34m.\u001b[0m\u001b[0maccuracy\u001b[0m\u001b[0;34m(\u001b[0m\u001b[0mNBClassifier\u001b[0m\u001b[0;34m,\u001b[0m \u001b[0mtest_set\u001b[0m\u001b[0;34m)\u001b[0m\u001b[0;34m)\u001b[0m\u001b[0;34m\u001b[0m\u001b[0m\n\u001b[0m",
      "\u001b[0;31mNameError\u001b[0m: name 'test_set' is not defined"
     ]
    }
   ],
   "source": [
    "print(nltk.classify.accuracy(NBClassifier, test_set))"
   ]
  },
  {
   "cell_type": "code",
   "execution_count": null,
   "metadata": {
    "collapsed": true
   },
   "outputs": [],
   "source": []
  },
  {
   "cell_type": "code",
   "execution_count": 290,
   "metadata": {
    "collapsed": false
   },
   "outputs": [
    {
     "data": {
      "text/html": [
       "<div>\n",
       "<table border=\"1\" class=\"dataframe\">\n",
       "  <thead>\n",
       "    <tr style=\"text-align: right;\">\n",
       "      <th></th>\n",
       "      <th>sentiment</th>\n",
       "      <th>cleanText</th>\n",
       "    </tr>\n",
       "  </thead>\n",
       "  <tbody>\n",
       "    <tr>\n",
       "      <th>0</th>\n",
       "      <td>negative</td>\n",
       "      <td>[hate, book, !, doesnt, make, sense, disapponi...</td>\n",
       "    </tr>\n",
       "    <tr>\n",
       "      <th>1</th>\n",
       "      <td>positive</td>\n",
       "      <td>[funny, interesting, learn, lot, book, love, b...</td>\n",
       "    </tr>\n",
       "  </tbody>\n",
       "</table>\n",
       "</div>"
      ],
      "text/plain": [
       "  sentiment                                          cleanText\n",
       "0  negative  [hate, book, !, doesnt, make, sense, disapponi...\n",
       "1  positive  [funny, interesting, learn, lot, book, love, b..."
      ]
     },
     "execution_count": 290,
     "metadata": {},
     "output_type": "execute_result"
    }
   ],
   "source": [
    "#### simple test this model\n",
    "\n",
    "#rating_ABS_df.head(3)\n",
    "\n",
    "sampleText = pd.Series([\"I hate the book! Doesn't make sense\",\n",
    "                       \"funny, interesting, I learn a lot from this book\",\n",
    "                       \"I love the book, the contents are fanstating\",\n",
    "                       \"Disapponiting to read this book\"])\n",
    "sentiment = pd.Series([\"negative\",\"positive\",\"positive\",\"negative\"])\n",
    "sampleMdTest_df = pd.DataFrame({'rawText':sampleText, 'sentiment':sentiment})\n",
    "sampleMdTest_df\n",
    "\n",
    "sample_clean = review2words(sampleMdTest_df.rawText)\n",
    "sample_clean.name=\"cleanText\"\n",
    "sample_clean_df = pd.concat([sampleMdTest_df,sample_clean],axis=1)\n",
    "sample_clean_df= sample_clean_df.groupby('sentiment')['cleanText'].sum().reset_index()\n",
    "\n",
    "sample_clean_df.columns = ['sentiment','cleanText']\n",
    "sample_clean_df"
   ]
  },
  {
   "cell_type": "code",
   "execution_count": null,
   "metadata": {
    "collapsed": true
   },
   "outputs": [],
   "source": []
  },
  {
   "cell_type": "code",
   "execution_count": null,
   "metadata": {
    "collapsed": true
   },
   "outputs": [],
   "source": []
  },
  {
   "cell_type": "code",
   "execution_count": null,
   "metadata": {
    "collapsed": true
   },
   "outputs": [],
   "source": []
  },
  {
   "cell_type": "code",
   "execution_count": null,
   "metadata": {
    "collapsed": true
   },
   "outputs": [],
   "source": []
  },
  {
   "cell_type": "code",
   "execution_count": null,
   "metadata": {
    "collapsed": true
   },
   "outputs": [],
   "source": []
  },
  {
   "cell_type": "code",
   "execution_count": null,
   "metadata": {
    "collapsed": true
   },
   "outputs": [],
   "source": []
  },
  {
   "cell_type": "code",
   "execution_count": null,
   "metadata": {
    "collapsed": true
   },
   "outputs": [],
   "source": []
  },
  {
   "cell_type": "code",
   "execution_count": null,
   "metadata": {
    "collapsed": true
   },
   "outputs": [],
   "source": []
  },
  {
   "cell_type": "code",
   "execution_count": null,
   "metadata": {
    "collapsed": true
   },
   "outputs": [],
   "source": []
  },
  {
   "cell_type": "code",
   "execution_count": null,
   "metadata": {
    "collapsed": true
   },
   "outputs": [],
   "source": []
  },
  {
   "cell_type": "code",
   "execution_count": null,
   "metadata": {
    "collapsed": true
   },
   "outputs": [],
   "source": []
  },
  {
   "cell_type": "code",
   "execution_count": null,
   "metadata": {
    "collapsed": true
   },
   "outputs": [],
   "source": []
  },
  {
   "cell_type": "code",
   "execution_count": null,
   "metadata": {
    "collapsed": true
   },
   "outputs": [],
   "source": []
  },
  {
   "cell_type": "code",
   "execution_count": null,
   "metadata": {
    "collapsed": true
   },
   "outputs": [],
   "source": []
  },
  {
   "cell_type": "code",
   "execution_count": null,
   "metadata": {
    "collapsed": true
   },
   "outputs": [],
   "source": []
  },
  {
   "cell_type": "code",
   "execution_count": null,
   "metadata": {
    "collapsed": true
   },
   "outputs": [],
   "source": []
  },
  {
   "cell_type": "code",
   "execution_count": null,
   "metadata": {
    "collapsed": true
   },
   "outputs": [],
   "source": []
  },
  {
   "cell_type": "code",
   "execution_count": null,
   "metadata": {
    "collapsed": true
   },
   "outputs": [],
   "source": []
  },
  {
   "cell_type": "code",
   "execution_count": null,
   "metadata": {
    "collapsed": true
   },
   "outputs": [],
   "source": []
  },
  {
   "cell_type": "code",
   "execution_count": 24,
   "metadata": {
    "collapsed": false
   },
   "outputs": [],
   "source": [
    "import random\n",
    "from nltk.corpus import movie_reviews\n",
    "from nltk import NaiveBayesClassifier\n",
    "from nltk import FreqDist\n",
    "from nltk.classify import accuracy\n",
    "import string\n"
   ]
  },
  {
   "cell_type": "code",
   "execution_count": null,
   "metadata": {
    "collapsed": true
   },
   "outputs": [],
   "source": []
  },
  {
   "cell_type": "code",
   "execution_count": null,
   "metadata": {
    "collapsed": true
   },
   "outputs": [],
   "source": []
  },
  {
   "cell_type": "code",
   "execution_count": null,
   "metadata": {
    "collapsed": true
   },
   "outputs": [],
   "source": []
  },
  {
   "cell_type": "code",
   "execution_count": null,
   "metadata": {
    "collapsed": true
   },
   "outputs": [],
   "source": []
  },
  {
   "cell_type": "code",
   "execution_count": null,
   "metadata": {
    "collapsed": true
   },
   "outputs": [],
   "source": []
  },
  {
   "cell_type": "code",
   "execution_count": null,
   "metadata": {
    "collapsed": true
   },
   "outputs": [],
   "source": []
  },
  {
   "cell_type": "code",
   "execution_count": null,
   "metadata": {
    "collapsed": true
   },
   "outputs": [],
   "source": []
  },
  {
   "cell_type": "code",
   "execution_count": null,
   "metadata": {
    "collapsed": true
   },
   "outputs": [],
   "source": []
  },
  {
   "cell_type": "code",
   "execution_count": null,
   "metadata": {
    "collapsed": true
   },
   "outputs": [],
   "source": []
  },
  {
   "cell_type": "code",
   "execution_count": null,
   "metadata": {
    "collapsed": true
   },
   "outputs": [],
   "source": []
  },
  {
   "cell_type": "code",
   "execution_count": null,
   "metadata": {
    "collapsed": true
   },
   "outputs": [],
   "source": [
    "  Google's Word2Vec  is deep-learning inspired method that focuses on the meaning of words. "
   ]
  },
  {
   "cell_type": "code",
   "execution_count": null,
   "metadata": {
    "collapsed": true
   },
   "outputs": [],
   "source": [
    "clean_review = review_to_words( train[\"review\"][0] )"
   ]
  },
  {
   "cell_type": "code",
   "execution_count": null,
   "metadata": {
    "collapsed": true
   },
   "outputs": [],
   "source": []
  },
  {
   "cell_type": "code",
   "execution_count": null,
   "metadata": {
    "collapsed": true
   },
   "outputs": [],
   "source": [
    "# plot time series and overall rating"
   ]
  },
  {
   "cell_type": "code",
   "execution_count": null,
   "metadata": {
    "collapsed": true
   },
   "outputs": [],
   "source": []
  },
  {
   "cell_type": "code",
   "execution_count": null,
   "metadata": {
    "collapsed": true
   },
   "outputs": [],
   "source": []
  },
  {
   "cell_type": "code",
   "execution_count": null,
   "metadata": {
    "collapsed": true
   },
   "outputs": [],
   "source": []
  },
  {
   "cell_type": "code",
   "execution_count": null,
   "metadata": {
    "collapsed": true
   },
   "outputs": [],
   "source": []
  },
  {
   "cell_type": "code",
   "execution_count": null,
   "metadata": {
    "collapsed": true
   },
   "outputs": [],
   "source": []
  },
  {
   "cell_type": "code",
   "execution_count": null,
   "metadata": {
    "collapsed": true
   },
   "outputs": [],
   "source": []
  },
  {
   "cell_type": "code",
   "execution_count": null,
   "metadata": {
    "collapsed": true
   },
   "outputs": [],
   "source": []
  },
  {
   "cell_type": "code",
   "execution_count": null,
   "metadata": {
    "collapsed": true
   },
   "outputs": [],
   "source": []
  },
  {
   "cell_type": "code",
   "execution_count": null,
   "metadata": {
    "collapsed": false
   },
   "outputs": [],
   "source": [
    "# import PySpark and create SparkContext\n",
    "from pyspark import SparkConf\n",
    "from pyspark import SparkContext\n",
    "\n",
    "spark_df = sqlContext.createDataFrame(ABS_df)\n",
    "\n",
    "spark_df.take(1)"
   ]
  },
  {
   "cell_type": "code",
   "execution_count": null,
   "metadata": {
    "collapsed": true
   },
   "outputs": [],
   "source": [
    "## classification \n",
    "# what are common characteristics of these customers?"
   ]
  },
  {
   "cell_type": "code",
   "execution_count": null,
   "metadata": {
    "collapsed": false
   },
   "outputs": [],
   "source": [
    "## we imported PySpark and create a SparkContext\n",
    "\n",
    "conf = SparkConf()\n",
    "conf.setMaster('local[2]') #yarn-client\n",
    "conf.setAppName('spark-nltk')\n",
    "sc.stop()\n",
    "sc = SparkContext(conf=conf) # tell Spark where and how to access cluster"
   ]
  },
  {
   "cell_type": "code",
   "execution_count": null,
   "metadata": {
    "collapsed": false
   },
   "outputs": [],
   "source": [
    "data = sc.textFile('file:///Users/tancy/nltk_data/corpora/state_union/1972-Nixon.txt')\n"
   ]
  },
  {
   "cell_type": "code",
   "execution_count": null,
   "metadata": {
    "collapsed": true
   },
   "outputs": [],
   "source": [
    "sqlc = SQLContext(sc) # create DataFrame\n",
    "spark_df = sqlc.createDataFrame(amazon_book_sample_df)"
   ]
  },
  {
   "cell_type": "code",
   "execution_count": null,
   "metadata": {
    "collapsed": false
   },
   "outputs": [],
   "source": [
    "spark_df.distinct()"
   ]
  },
  {
   "cell_type": "code",
   "execution_count": null,
   "metadata": {
    "collapsed": false
   },
   "outputs": [],
   "source": []
  },
  {
   "cell_type": "code",
   "execution_count": null,
   "metadata": {
    "collapsed": false
   },
   "outputs": [],
   "source": [
    "def word_tokenize(x):\n",
    "    import nltk\n",
    "    return nltk.word_tokenize(x)\n",
    "\n",
    "def pos_tag(x):\n",
    "    import nltk\n",
    "    return nltk.pos_tag([x])\n",
    "\n",
    "words = spark_df.flatMap(word_tokenize)\n",
    "print words.take(10)\n",
    "\n",
    "pos_word = words.map(pos_tag)\n",
    "print pos_word.take(5)"
   ]
  },
  {
   "cell_type": "code",
   "execution_count": null,
   "metadata": {
    "collapsed": false
   },
   "outputs": [],
   "source": [
    "print words.take(10)"
   ]
  },
  {
   "cell_type": "code",
   "execution_count": null,
   "metadata": {
    "collapsed": true
   },
   "outputs": [],
   "source": []
  },
  {
   "cell_type": "code",
   "execution_count": null,
   "metadata": {
    "collapsed": false
   },
   "outputs": [],
   "source": [
    "#\n",
    "\n"
   ]
  },
  {
   "cell_type": "code",
   "execution_count": null,
   "metadata": {
    "collapsed": false
   },
   "outputs": [],
   "source": [
    "\n"
   ]
  },
  {
   "cell_type": "code",
   "execution_count": null,
   "metadata": {
    "collapsed": false
   },
   "outputs": [],
   "source": [
    "txt.tail(5)"
   ]
  },
  {
   "cell_type": "code",
   "execution_count": null,
   "metadata": {
    "collapsed": true
   },
   "outputs": [],
   "source": [
    "from nltk.corpus import brown"
   ]
  },
  {
   "cell_type": "code",
   "execution_count": null,
   "metadata": {
    "collapsed": false
   },
   "outputs": [],
   "source": [
    "brown.words()"
   ]
  },
  {
   "cell_type": "code",
   "execution_count": null,
   "metadata": {
    "collapsed": false
   },
   "outputs": [],
   "source": [
    "## get word counts for each reviewer    \n",
    "min(txt.apply(len))"
   ]
  },
  {
   "cell_type": "code",
   "execution_count": null,
   "metadata": {
    "collapsed": false
   },
   "outputs": [],
   "source": [
    "txt2 = txt.apply(lambda x: nltk.Text(x).count('happy'))\n",
    "txt2.head()"
   ]
  },
  {
   "cell_type": "code",
   "execution_count": null,
   "metadata": {
    "collapsed": true
   },
   "outputs": [],
   "source": [
    "def content_fraction(text):\n",
    "    stopwords = nltk.corpus.stopwords.words('english')\n",
    "    content = [w for w in text if w.lower() not in stopwords]\n",
    "    return len(content) / len(text)\n",
    "content_fraction(nltk.corpus.reuters.words())"
   ]
  },
  {
   "cell_type": "code",
   "execution_count": null,
   "metadata": {
    "collapsed": false
   },
   "outputs": [],
   "source": [
    "## Dealing with Punctuation, Numbers and Stopwords: NLTK and regular expressions\n",
    "\n",
    "a = amazon_book_sample_df.reviewText[1]\n",
    "a\n",
    "\n"
   ]
  },
  {
   "cell_type": "code",
   "execution_count": null,
   "metadata": {
    "collapsed": true
   },
   "outputs": [],
   "source": []
  },
  {
   "cell_type": "code",
   "execution_count": null,
   "metadata": {
    "collapsed": true
   },
   "outputs": [],
   "source": [
    "### whether more reviewers more positive "
   ]
  },
  {
   "cell_type": "code",
   "execution_count": null,
   "metadata": {
    "collapsed": true
   },
   "outputs": [],
   "source": [
    "### correlation between overall star rating and helpfulness\n",
    "## higher star rating, higher helpfulness"
   ]
  },
  {
   "cell_type": "code",
   "execution_count": null,
   "metadata": {
    "collapsed": true
   },
   "outputs": [],
   "source": [
    "### length of word"
   ]
  },
  {
   "cell_type": "code",
   "execution_count": null,
   "metadata": {
    "collapsed": true
   },
   "outputs": [],
   "source": [
    "### sentiment of text"
   ]
  },
  {
   "cell_type": "code",
   "execution_count": null,
   "metadata": {
    "collapsed": true
   },
   "outputs": [],
   "source": [
    "### distribut of start rating"
   ]
  },
  {
   "cell_type": "code",
   "execution_count": null,
   "metadata": {
    "collapsed": true
   },
   "outputs": [],
   "source": [
    "### feature extract"
   ]
  },
  {
   "cell_type": "code",
   "execution_count": null,
   "metadata": {
    "collapsed": true
   },
   "outputs": [],
   "source": [
    "### NLTK Text Classification"
   ]
  },
  {
   "cell_type": "code",
   "execution_count": null,
   "metadata": {
    "collapsed": true
   },
   "outputs": [],
   "source": [
    "### clean text\n",
    "## spelling check ASpell module\n",
    "## replace punctuation with spaces\n",
    "## all input string to lower case\n",
    "## save into one column"
   ]
  },
  {
   "cell_type": "code",
   "execution_count": null,
   "metadata": {
    "collapsed": true
   },
   "outputs": [],
   "source": []
  },
  {
   "cell_type": "code",
   "execution_count": null,
   "metadata": {
    "collapsed": true
   },
   "outputs": [],
   "source": [
    "dd = [('Alice',1), ('Bob',2)]"
   ]
  },
  {
   "cell_type": "code",
   "execution_count": null,
   "metadata": {
    "collapsed": false
   },
   "outputs": [],
   "source": [
    "dd"
   ]
  },
  {
   "cell_type": "code",
   "execution_count": null,
   "metadata": {
    "collapsed": false
   },
   "outputs": [],
   "source": [
    "df = sqlc.createDataFrame(dd)"
   ]
  },
  {
   "cell_type": "code",
   "execution_count": null,
   "metadata": {
    "collapsed": false
   },
   "outputs": [],
   "source": [
    "df.collect()"
   ]
  },
  {
   "cell_type": "code",
   "execution_count": null,
   "metadata": {
    "collapsed": true
   },
   "outputs": [],
   "source": []
  },
  {
   "cell_type": "code",
   "execution_count": null,
   "metadata": {
    "collapsed": true
   },
   "outputs": [],
   "source": []
  },
  {
   "cell_type": "code",
   "execution_count": null,
   "metadata": {
    "collapsed": true
   },
   "outputs": [],
   "source": []
  },
  {
   "cell_type": "code",
   "execution_count": null,
   "metadata": {
    "collapsed": true
   },
   "outputs": [],
   "source": []
  },
  {
   "cell_type": "code",
   "execution_count": null,
   "metadata": {
    "collapsed": true
   },
   "outputs": [],
   "source": []
  },
  {
   "cell_type": "code",
   "execution_count": null,
   "metadata": {
    "collapsed": true
   },
   "outputs": [],
   "source": []
  },
  {
   "cell_type": "code",
   "execution_count": null,
   "metadata": {
    "collapsed": true
   },
   "outputs": [],
   "source": []
  },
  {
   "cell_type": "code",
   "execution_count": null,
   "metadata": {
    "collapsed": true
   },
   "outputs": [],
   "source": []
  },
  {
   "cell_type": "code",
   "execution_count": null,
   "metadata": {
    "collapsed": true
   },
   "outputs": [],
   "source": []
  },
  {
   "cell_type": "code",
   "execution_count": null,
   "metadata": {
    "collapsed": true
   },
   "outputs": [],
   "source": []
  },
  {
   "cell_type": "code",
   "execution_count": null,
   "metadata": {
    "collapsed": true
   },
   "outputs": [],
   "source": []
  },
  {
   "cell_type": "code",
   "execution_count": null,
   "metadata": {
    "collapsed": true
   },
   "outputs": [],
   "source": []
  },
  {
   "cell_type": "code",
   "execution_count": null,
   "metadata": {
    "collapsed": true
   },
   "outputs": [],
   "source": []
  },
  {
   "cell_type": "code",
   "execution_count": null,
   "metadata": {
    "collapsed": true
   },
   "outputs": [],
   "source": []
  },
  {
   "cell_type": "code",
   "execution_count": null,
   "metadata": {
    "collapsed": true
   },
   "outputs": [],
   "source": []
  },
  {
   "cell_type": "code",
   "execution_count": null,
   "metadata": {
    "collapsed": true
   },
   "outputs": [],
   "source": []
  },
  {
   "cell_type": "code",
   "execution_count": null,
   "metadata": {
    "collapsed": true
   },
   "outputs": [],
   "source": []
  },
  {
   "cell_type": "code",
   "execution_count": null,
   "metadata": {
    "collapsed": true
   },
   "outputs": [],
   "source": []
  },
  {
   "cell_type": "code",
   "execution_count": null,
   "metadata": {
    "collapsed": true
   },
   "outputs": [],
   "source": []
  },
  {
   "cell_type": "code",
   "execution_count": null,
   "metadata": {
    "collapsed": false
   },
   "outputs": [],
   "source": []
  },
  {
   "cell_type": "code",
   "execution_count": null,
   "metadata": {
    "collapsed": true
   },
   "outputs": [],
   "source": []
  }
 ],
 "metadata": {
  "anaconda-cloud": {},
  "kernelspec": {
   "display_name": "Python [default]",
   "language": "python",
   "name": "python2"
  },
  "language_info": {
   "codemirror_mode": {
    "name": "ipython",
    "version": 2
   },
   "file_extension": ".py",
   "mimetype": "text/x-python",
   "name": "python",
   "nbconvert_exporter": "python",
   "pygments_lexer": "ipython2",
   "version": "2.7.12"
  }
 },
 "nbformat": 4,
 "nbformat_minor": 1
}
